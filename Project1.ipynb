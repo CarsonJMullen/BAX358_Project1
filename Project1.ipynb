{
 "cells": [
  {
   "cell_type": "code",
   "execution_count": 1,
   "id": "4e5e8f10",
   "metadata": {},
   "outputs": [],
   "source": [
    "#load libraries\n",
    "\n",
    "import gurobipy as gp\n",
    "import numpy as np\n",
    "import pandas as pd"
   ]
  },
  {
   "cell_type": "code",
   "execution_count": 2,
   "id": "231beead",
   "metadata": {},
   "outputs": [],
   "source": [
    "# Define initial dataframe\n",
    "\n",
    "ROIs = pd.read_csv('ROI_data.csv')\n",
    "ROIs = ROIs.set_index('Platform')"
   ]
  },
  {
   "cell_type": "code",
   "execution_count": 3,
   "id": "d5c51358",
   "metadata": {},
   "outputs": [],
   "source": [
    "roi_mat = pd.read_csv('roi_mat.csv')\n",
    "roi_mat = roi_mat.set_index('Unnamed: 0')"
   ]
  },
  {
   "cell_type": "markdown",
   "id": "9eebb84f",
   "metadata": {},
   "source": [
    "# 3. Formulate the marketing budget allocation problem as a linear program. Use gurobi to find the optimal budget allocation."
   ]
  },
  {
   "cell_type": "code",
   "execution_count": 4,
   "id": "078c78ec",
   "metadata": {},
   "outputs": [],
   "source": [
    "# Define constants\n",
    "\n",
    "budget = 10\n",
    "columns = ROIs.columns\n",
    "num_dv = len(columns)\n",
    "single_max = 3\n",
    "ratio = 2\n",
    "social_media_list = [columns.get_loc(platform) for platform in ['Facebook', 'LinkedIn', 'Instagram', 'Snapchat', 'Twitter']]"
   ]
  },
  {
   "cell_type": "code",
   "execution_count": 5,
   "id": "56fc33cc",
   "metadata": {},
   "outputs": [
    {
     "data": {
      "text/html": [
       "<div>\n",
       "<style scoped>\n",
       "    .dataframe tbody tr th:only-of-type {\n",
       "        vertical-align: middle;\n",
       "    }\n",
       "\n",
       "    .dataframe tbody tr th {\n",
       "        vertical-align: top;\n",
       "    }\n",
       "\n",
       "    .dataframe thead th {\n",
       "        text-align: right;\n",
       "    }\n",
       "</style>\n",
       "<table border=\"1\" class=\"dataframe\">\n",
       "  <thead>\n",
       "    <tr style=\"text-align: right;\">\n",
       "      <th></th>\n",
       "      <th>Print</th>\n",
       "      <th>TV</th>\n",
       "      <th>SEO</th>\n",
       "      <th>AdWords</th>\n",
       "      <th>Facebook</th>\n",
       "      <th>LinkedIn</th>\n",
       "      <th>Instagram</th>\n",
       "      <th>Snapchat</th>\n",
       "      <th>Twitter</th>\n",
       "      <th>Email</th>\n",
       "    </tr>\n",
       "    <tr>\n",
       "      <th>Platform</th>\n",
       "      <th></th>\n",
       "      <th></th>\n",
       "      <th></th>\n",
       "      <th></th>\n",
       "      <th></th>\n",
       "      <th></th>\n",
       "      <th></th>\n",
       "      <th></th>\n",
       "      <th></th>\n",
       "      <th></th>\n",
       "    </tr>\n",
       "  </thead>\n",
       "  <tbody>\n",
       "    <tr>\n",
       "      <th>ROI</th>\n",
       "      <td>0.031</td>\n",
       "      <td>0.049</td>\n",
       "      <td>0.024</td>\n",
       "      <td>0.039</td>\n",
       "      <td>0.016</td>\n",
       "      <td>0.024</td>\n",
       "      <td>0.046</td>\n",
       "      <td>0.026</td>\n",
       "      <td>0.033</td>\n",
       "      <td>0.044</td>\n",
       "    </tr>\n",
       "    <tr>\n",
       "      <th>Second Firms ROI Estimate</th>\n",
       "      <td>0.049</td>\n",
       "      <td>0.023</td>\n",
       "      <td>0.024</td>\n",
       "      <td>0.039</td>\n",
       "      <td>0.044</td>\n",
       "      <td>0.046</td>\n",
       "      <td>0.026</td>\n",
       "      <td>0.019</td>\n",
       "      <td>0.037</td>\n",
       "      <td>0.026</td>\n",
       "    </tr>\n",
       "  </tbody>\n",
       "</table>\n",
       "</div>"
      ],
      "text/plain": [
       "                           Print     TV    SEO  AdWords  Facebook  LinkedIn  \\\n",
       "Platform                                                                      \n",
       "ROI                        0.031  0.049  0.024    0.039     0.016     0.024   \n",
       "Second Firms ROI Estimate  0.049  0.023  0.024    0.039     0.044     0.046   \n",
       "\n",
       "                           Instagram  Snapchat  Twitter  Email  \n",
       "Platform                                                        \n",
       "ROI                            0.046     0.026    0.033  0.044  \n",
       "Second Firms ROI Estimate      0.026     0.019    0.037  0.026  "
      ]
     },
     "execution_count": 5,
     "metadata": {},
     "output_type": "execute_result"
    }
   ],
   "source": [
    "ROIs"
   ]
  },
  {
   "cell_type": "code",
   "execution_count": 6,
   "id": "5a206e69",
   "metadata": {},
   "outputs": [
    {
     "name": "stdout",
     "output_type": "stream",
     "text": [
      "Restricted license - for non-production use only - expires 2024-10-28\n"
     ]
    }
   ],
   "source": [
    "# Find optimal solution for initial consulting firm's estimates\n",
    "\n",
    "model1 = gp.Model()\n",
    "model1X = model1.addMVar(num_dv, ub = single_max)\n",
    "\n",
    "model1.setObjective(gp.quicksum(ROIs.loc['ROI'][i]*model1X[i] for i in range(num_dv)), sense=gp.GRB.MAXIMIZE)\n",
    "\n",
    "conlist1 = [0]*3\n",
    "conlist1[0] = model1.addConstr((model1X[columns.get_loc('Print')] + model1X[columns.get_loc('TV')]) <= (model1X[columns.get_loc('Facebook')] + model1X[columns.get_loc('Email')]))\n",
    "conlist1[1] = model1.addConstr(gp.quicksum(model1X[i] for i in social_media_list) >= ratio * (model1X[columns.get_loc('SEO')] + model1X[columns.get_loc('AdWords')]))\n",
    "conlist1[2] = model1.addConstr(gp.quicksum(model1X[i] for i in range(num_dv)) <= budget)\n"
   ]
  },
  {
   "cell_type": "code",
   "execution_count": 7,
   "id": "1b60c762",
   "metadata": {},
   "outputs": [
    {
     "name": "stdout",
     "output_type": "stream",
     "text": [
      "Gurobi Optimizer version 10.0.2 build v10.0.2rc0 (mac64[arm])\n",
      "\n",
      "CPU model: Apple M1\n",
      "Thread count: 8 physical cores, 8 logical processors, using up to 8 threads\n",
      "\n",
      "Optimize a model with 3 rows, 10 columns and 21 nonzeros\n",
      "Model fingerprint: 0xcac47b03\n",
      "Coefficient statistics:\n",
      "  Matrix range     [1e+00, 2e+00]\n",
      "  Objective range  [2e-02, 5e-02]\n",
      "  Bounds range     [3e+00, 3e+00]\n",
      "  RHS range        [1e+01, 1e+01]\n",
      "Presolve time: 0.00s\n",
      "Presolved: 3 rows, 10 columns, 21 nonzeros\n",
      "\n",
      "Iteration    Objective       Primal Inf.    Dual Inf.      Time\n",
      "       0    4.9000000e-01   1.700000e+01   0.000000e+00      0s\n",
      "       1    4.5600000e-01   0.000000e+00   0.000000e+00      0s\n",
      "\n",
      "Solved in 1 iterations and 0.00 seconds (0.00 work units)\n",
      "Optimal objective  4.560000000e-01\n"
     ]
    }
   ],
   "source": [
    "model1.optimize()"
   ]
  },
  {
   "cell_type": "code",
   "execution_count": 8,
   "id": "5268df06",
   "metadata": {},
   "outputs": [
    {
     "data": {
      "text/plain": [
       "[0.0, 3.0, 0.0, 1.0, 0.0, 0.0, 3.0, 0.0, 0.0, 3.0]"
      ]
     },
     "execution_count": 8,
     "metadata": {},
     "output_type": "execute_result"
    }
   ],
   "source": [
    "model1.x"
   ]
  },
  {
   "cell_type": "code",
   "execution_count": 9,
   "id": "a15a09b8",
   "metadata": {},
   "outputs": [
    {
     "data": {
      "text/plain": [
       "0.45600000000000007"
      ]
     },
     "execution_count": 9,
     "metadata": {},
     "output_type": "execute_result"
    }
   ],
   "source": [
    "model1.objVal"
   ]
  },
  {
   "cell_type": "code",
   "execution_count": 10,
   "id": "ea3ac21e",
   "metadata": {},
   "outputs": [],
   "source": [
    "# Find optimal solution for second consulting firm's estimates\n",
    "\n",
    "model2 = gp.Model()\n",
    "model2X = model2.addMVar(num_dv, ub = single_max)\n",
    "\n",
    "model2.setObjective(gp.quicksum(ROIs.loc['Second Firms ROI Estimate'][i]*model2X[i] for i in range(num_dv)), sense=gp.GRB.MAXIMIZE)\n",
    "\n",
    "conlist2 = [0]*3\n",
    "conlist2[0] = model2.addConstr((model2X[columns.get_loc('Print')] + model2X[columns.get_loc('TV')]) <= (model2X[columns.get_loc('Facebook')] + model2X[columns.get_loc('Email')]))\n",
    "conlist2[1] = model2.addConstr(gp.quicksum(model2X[i] for i in social_media_list) >= ratio * (model2X[columns.get_loc('SEO')] + model2X[columns.get_loc('AdWords')]))\n",
    "conlist2[2] = model2.addConstr(gp.quicksum(model2X[i] for i in range(num_dv)) <= budget)\n"
   ]
  },
  {
   "cell_type": "code",
   "execution_count": 11,
   "id": "69bc9c9c",
   "metadata": {},
   "outputs": [
    {
     "name": "stdout",
     "output_type": "stream",
     "text": [
      "Gurobi Optimizer version 10.0.2 build v10.0.2rc0 (mac64[arm])\n",
      "\n",
      "CPU model: Apple M1\n",
      "Thread count: 8 physical cores, 8 logical processors, using up to 8 threads\n",
      "\n",
      "Optimize a model with 3 rows, 10 columns and 21 nonzeros\n",
      "Model fingerprint: 0x2bfada38\n",
      "Coefficient statistics:\n",
      "  Matrix range     [1e+00, 2e+00]\n",
      "  Objective range  [2e-02, 5e-02]\n",
      "  Bounds range     [3e+00, 3e+00]\n",
      "  RHS range        [1e+01, 1e+01]\n",
      "Presolve time: 0.00s\n",
      "Presolved: 3 rows, 10 columns, 21 nonzeros\n",
      "\n",
      "Iteration    Objective       Primal Inf.    Dual Inf.      Time\n",
      "       0    4.9000000e-01   1.700000e+01   0.000000e+00      0s\n",
      "       1    4.5600000e-01   0.000000e+00   0.000000e+00      0s\n",
      "\n",
      "Solved in 1 iterations and 0.00 seconds (0.00 work units)\n",
      "Optimal objective  4.560000000e-01\n"
     ]
    }
   ],
   "source": [
    "model2.optimize()"
   ]
  },
  {
   "cell_type": "code",
   "execution_count": 12,
   "id": "777935f4",
   "metadata": {},
   "outputs": [
    {
     "data": {
      "text/plain": [
       "[3.0, 0.0, 0.0, 1.0, 3.0, 3.0, 0.0, 0.0, 0.0, 0.0]"
      ]
     },
     "execution_count": 12,
     "metadata": {},
     "output_type": "execute_result"
    }
   ],
   "source": [
    "model2.x"
   ]
  },
  {
   "cell_type": "code",
   "execution_count": 13,
   "id": "1ecb03dc",
   "metadata": {},
   "outputs": [
    {
     "data": {
      "text/plain": [
       "0.45600000000000007"
      ]
     },
     "execution_count": 13,
     "metadata": {},
     "output_type": "execute_result"
    }
   ],
   "source": [
    "model2.objval"
   ]
  },
  {
   "cell_type": "markdown",
   "id": "2047f488",
   "metadata": {},
   "source": [
    "## 5a. Are the allocations the same?"
   ]
  },
  {
   "cell_type": "code",
   "execution_count": 14,
   "id": "894cfbf0",
   "metadata": {},
   "outputs": [
    {
     "data": {
      "text/plain": [
       "[0.0, 3.0, 0.0, 1.0, 0.0, 0.0, 3.0, 0.0, 0.0, 3.0]"
      ]
     },
     "execution_count": 14,
     "metadata": {},
     "output_type": "execute_result"
    }
   ],
   "source": [
    "model1.x"
   ]
  },
  {
   "cell_type": "code",
   "execution_count": 15,
   "id": "c31f0ec0",
   "metadata": {},
   "outputs": [
    {
     "data": {
      "text/plain": [
       "[3.0, 0.0, 0.0, 1.0, 3.0, 3.0, 0.0, 0.0, 0.0, 0.0]"
      ]
     },
     "execution_count": 15,
     "metadata": {},
     "output_type": "execute_result"
    }
   ],
   "source": [
    "model2.x"
   ]
  },
  {
   "cell_type": "code",
   "execution_count": 16,
   "id": "896b1d39",
   "metadata": {},
   "outputs": [
    {
     "data": {
      "text/plain": [
       "0.45600000000000007"
      ]
     },
     "execution_count": 16,
     "metadata": {},
     "output_type": "execute_result"
    }
   ],
   "source": [
    "model1.objVal"
   ]
  },
  {
   "cell_type": "code",
   "execution_count": 17,
   "id": "394f696d",
   "metadata": {},
   "outputs": [
    {
     "data": {
      "text/plain": [
       "0.45600000000000007"
      ]
     },
     "execution_count": 17,
     "metadata": {},
     "output_type": "execute_result"
    }
   ],
   "source": [
    "model2.objval"
   ]
  },
  {
   "cell_type": "markdown",
   "id": "5339aea1",
   "metadata": {},
   "source": [
    "The allocations are not the same, but the objective value is."
   ]
  },
  {
   "cell_type": "markdown",
   "id": "262dfe57",
   "metadata": {},
   "source": [
    "## 5b Assuming the first ROI data is correct, if you were to use the second allocation (the allocation that assumed the second ROI data was correct) how much lower would the objective be relative to the optimal objective (the one that uses the first ROI data and the first allocation)? "
   ]
  },
  {
   "cell_type": "code",
   "execution_count": 18,
   "id": "0e84f21e",
   "metadata": {},
   "outputs": [
    {
     "data": {
      "text/plain": [
       "0.252"
      ]
     },
     "execution_count": 18,
     "metadata": {},
     "output_type": "execute_result"
    }
   ],
   "source": [
    "sum(model2.x * ROIs.loc['ROI'])"
   ]
  },
  {
   "cell_type": "code",
   "execution_count": 19,
   "id": "468b9044",
   "metadata": {},
   "outputs": [
    {
     "data": {
      "text/plain": [
       "-0.20400000000000007"
      ]
     },
     "execution_count": 19,
     "metadata": {},
     "output_type": "execute_result"
    }
   ],
   "source": [
    "# Difference\n",
    "\n",
    "sum(model2.x * ROIs.loc['ROI']) - model1.ObjVal\n"
   ]
  },
  {
   "cell_type": "markdown",
   "id": "2da9c52a",
   "metadata": {},
   "source": [
    "By using the second allocation for the first returns, the objective value is 0.204 less than what it would have been under the first allocation."
   ]
  },
  {
   "cell_type": "markdown",
   "id": "fd8ee4c0",
   "metadata": {},
   "source": [
    "## 5c. Assuming the second ROI data is correct, if you used the first allocation how much lower would the objective be relative to the optimal objective? "
   ]
  },
  {
   "cell_type": "code",
   "execution_count": 20,
   "id": "54ebb787",
   "metadata": {},
   "outputs": [
    {
     "data": {
      "text/plain": [
       "0.264"
      ]
     },
     "execution_count": 20,
     "metadata": {},
     "output_type": "execute_result"
    }
   ],
   "source": [
    "sum(model1.x*ROIs.loc['Second Firms ROI Estimate'])"
   ]
  },
  {
   "cell_type": "code",
   "execution_count": 21,
   "id": "39f95edc",
   "metadata": {},
   "outputs": [
    {
     "data": {
      "text/plain": [
       "-0.19200000000000006"
      ]
     },
     "execution_count": 21,
     "metadata": {},
     "output_type": "execute_result"
    }
   ],
   "source": [
    "sum(model1.x*ROIs.loc['Second Firms ROI Estimate']) - model2.objval"
   ]
  },
  {
   "cell_type": "markdown",
   "id": "0b54c3a2",
   "metadata": {},
   "source": [
    "The first allocation is .192 lower than the second allocation if the first assumptions are correct."
   ]
  },
  {
   "cell_type": "markdown",
   "id": "12ad8f94",
   "metadata": {},
   "source": [
    "The third constraint is not useful is binding and decreases the maximum possible return. "
   ]
  },
  {
   "cell_type": "markdown",
   "id": "e3a65a4d",
   "metadata": {},
   "source": [
    "## 6. To explore this further perform some analysis of how your optimal allocation would change based on changes in the ROI data. Use the first ROI data as your starting point. By how much could each advertising medium’s ROI increase or decrease and still result in the same optimal allocation you found in step (3)?"
   ]
  },
  {
   "cell_type": "code",
   "execution_count": 22,
   "id": "46e46c83",
   "metadata": {},
   "outputs": [
    {
     "data": {
      "text/plain": [
       "[0.0, 3.0, 0.0, 1.0, 0.0, 0.0, 3.0, 0.0, 0.0, 3.0]"
      ]
     },
     "execution_count": 22,
     "metadata": {},
     "output_type": "execute_result"
    }
   ],
   "source": [
    "model1.x"
   ]
  },
  {
   "cell_type": "code",
   "execution_count": 23,
   "id": "510da038",
   "metadata": {},
   "outputs": [
    {
     "data": {
      "text/plain": [
       "[-inf, 0.039, -inf, 0.033, -inf, -inf, 0.039, -inf, -inf, 0.028999999999999998]"
      ]
     },
     "execution_count": 23,
     "metadata": {},
     "output_type": "execute_result"
    }
   ],
   "source": [
    "model1.SAObjLow"
   ]
  },
  {
   "cell_type": "code",
   "execution_count": 24,
   "id": "35ba58b9",
   "metadata": {},
   "outputs": [
    {
     "data": {
      "text/plain": [
       "[0.049,\n",
       " 0.062,\n",
       " 0.039,\n",
       " 0.046,\n",
       " 0.028999999999999998,\n",
       " 0.039,\n",
       " inf,\n",
       " 0.039,\n",
       " 0.039,\n",
       " inf]"
      ]
     },
     "execution_count": 24,
     "metadata": {},
     "output_type": "execute_result"
    }
   ],
   "source": [
    "model1.SAObjUp"
   ]
  },
  {
   "cell_type": "markdown",
   "id": "66d600da",
   "metadata": {},
   "source": [
    "## 7. Your boss has gained permission to reinvest half of the return. For example, if the marketing obtains a 4% return in January, the budget of February will be $10M + $10M × 4% × 50% = $10.2M. The monthly ROI for next year is given in an attached csv file. The three constraints given by your boss are still in place for each month. What is the optimal allocation for each month?"
   ]
  },
  {
   "cell_type": "code",
   "execution_count": 25,
   "id": "4096d9fa",
   "metadata": {},
   "outputs": [
    {
     "data": {
      "text/plain": [
       "10"
      ]
     },
     "execution_count": 25,
     "metadata": {},
     "output_type": "execute_result"
    }
   ],
   "source": [
    "len(columns)"
   ]
  },
  {
   "cell_type": "code",
   "execution_count": 26,
   "id": "a63bf167",
   "metadata": {},
   "outputs": [],
   "source": [
    "budget = 10\n",
    "output = []\n",
    "months = len(roi_mat)\n",
    "columns = roi_mat.columns\n",
    "num_dv = len(columns)\n",
    "\n",
    "for month in range(months):\n",
    "\n",
    "    model = gp.Model()\n",
    "    modelX = model.addMVar(len(columns), ub = single_max)\n",
    "\n",
    "    model.setObjective(gp.quicksum((roi_mat.iloc[month, i])/100*modelX[i] for i in range(len(columns))), sense=gp.GRB.MAXIMIZE)\n",
    "\n",
    "    conlist = [0]*3\n",
    "    conlist[0] = model.addConstr((modelX[columns.get_loc('Print')] + modelX[columns.get_loc('TV')]) <= (modelX[columns.get_loc('Facebook')] + modelX[columns.get_loc('Email')]))\n",
    "    conlist[1] = model.addConstr(gp.quicksum(modelX[i] for i in social_media_list) >= ratio * (modelX[columns.get_loc('SEO')] + modelX[columns.get_loc('AdWords')]))\n",
    "    conlist[2] = model.addConstr(gp.quicksum(modelX[i] for i in range(num_dv)) <= budget)\n",
    "    \n",
    "    model.Params.OutputFlag = 0 \n",
    "    model.optimize()\n",
    "    #print(model.x)\n",
    "    #print(model.objval)\n",
    "    \n",
    "    values = model.x\n",
    "    output.append(values)\n",
    "\n",
    "    budget += (model.objval/2)\n"
   ]
  },
  {
   "cell_type": "code",
   "execution_count": 27,
   "id": "6b500487",
   "metadata": {},
   "outputs": [
    {
     "data": {
      "text/html": [
       "<div>\n",
       "<style scoped>\n",
       "    .dataframe tbody tr th:only-of-type {\n",
       "        vertical-align: middle;\n",
       "    }\n",
       "\n",
       "    .dataframe tbody tr th {\n",
       "        vertical-align: top;\n",
       "    }\n",
       "\n",
       "    .dataframe thead th {\n",
       "        text-align: right;\n",
       "    }\n",
       "</style>\n",
       "<table border=\"1\" class=\"dataframe\">\n",
       "  <thead>\n",
       "    <tr style=\"text-align: right;\">\n",
       "      <th></th>\n",
       "      <th>Print</th>\n",
       "      <th>TV</th>\n",
       "      <th>SEO</th>\n",
       "      <th>AdWords</th>\n",
       "      <th>Facebook</th>\n",
       "      <th>LinkedIn</th>\n",
       "      <th>Instagram</th>\n",
       "      <th>Snapchat</th>\n",
       "      <th>Twitter</th>\n",
       "      <th>Email</th>\n",
       "    </tr>\n",
       "  </thead>\n",
       "  <tbody>\n",
       "    <tr>\n",
       "      <th>January</th>\n",
       "      <td>3.000000</td>\n",
       "      <td>0.0</td>\n",
       "      <td>0.0</td>\n",
       "      <td>1.333333</td>\n",
       "      <td>0.000000</td>\n",
       "      <td>0.000000</td>\n",
       "      <td>2.666667</td>\n",
       "      <td>0.0</td>\n",
       "      <td>0.000000</td>\n",
       "      <td>3.000000</td>\n",
       "    </tr>\n",
       "    <tr>\n",
       "      <th>February</th>\n",
       "      <td>3.000000</td>\n",
       "      <td>0.0</td>\n",
       "      <td>0.0</td>\n",
       "      <td>2.395500</td>\n",
       "      <td>3.000000</td>\n",
       "      <td>0.000000</td>\n",
       "      <td>0.000000</td>\n",
       "      <td>0.0</td>\n",
       "      <td>1.791000</td>\n",
       "      <td>0.000000</td>\n",
       "    </tr>\n",
       "    <tr>\n",
       "      <th>March</th>\n",
       "      <td>0.000000</td>\n",
       "      <td>0.0</td>\n",
       "      <td>0.0</td>\n",
       "      <td>3.000000</td>\n",
       "      <td>0.000000</td>\n",
       "      <td>3.000000</td>\n",
       "      <td>1.389648</td>\n",
       "      <td>0.0</td>\n",
       "      <td>3.000000</td>\n",
       "      <td>0.000000</td>\n",
       "    </tr>\n",
       "    <tr>\n",
       "      <th>April</th>\n",
       "      <td>0.000000</td>\n",
       "      <td>0.0</td>\n",
       "      <td>0.0</td>\n",
       "      <td>3.000000</td>\n",
       "      <td>0.000000</td>\n",
       "      <td>3.000000</td>\n",
       "      <td>3.000000</td>\n",
       "      <td>0.0</td>\n",
       "      <td>1.596856</td>\n",
       "      <td>0.000000</td>\n",
       "    </tr>\n",
       "    <tr>\n",
       "      <th>May</th>\n",
       "      <td>1.804100</td>\n",
       "      <td>0.0</td>\n",
       "      <td>0.0</td>\n",
       "      <td>0.000000</td>\n",
       "      <td>0.000000</td>\n",
       "      <td>0.000000</td>\n",
       "      <td>3.000000</td>\n",
       "      <td>0.0</td>\n",
       "      <td>3.000000</td>\n",
       "      <td>3.000000</td>\n",
       "    </tr>\n",
       "    <tr>\n",
       "      <th>June</th>\n",
       "      <td>3.000000</td>\n",
       "      <td>0.0</td>\n",
       "      <td>0.0</td>\n",
       "      <td>0.000000</td>\n",
       "      <td>0.000000</td>\n",
       "      <td>0.000000</td>\n",
       "      <td>3.000000</td>\n",
       "      <td>0.0</td>\n",
       "      <td>2.020172</td>\n",
       "      <td>3.000000</td>\n",
       "    </tr>\n",
       "    <tr>\n",
       "      <th>July</th>\n",
       "      <td>1.123777</td>\n",
       "      <td>0.0</td>\n",
       "      <td>0.0</td>\n",
       "      <td>3.000000</td>\n",
       "      <td>1.123777</td>\n",
       "      <td>0.000000</td>\n",
       "      <td>3.000000</td>\n",
       "      <td>0.0</td>\n",
       "      <td>3.000000</td>\n",
       "      <td>0.000000</td>\n",
       "    </tr>\n",
       "    <tr>\n",
       "      <th>August</th>\n",
       "      <td>3.000000</td>\n",
       "      <td>0.0</td>\n",
       "      <td>0.0</td>\n",
       "      <td>1.827294</td>\n",
       "      <td>0.000000</td>\n",
       "      <td>0.654588</td>\n",
       "      <td>0.000000</td>\n",
       "      <td>0.0</td>\n",
       "      <td>3.000000</td>\n",
       "      <td>3.000000</td>\n",
       "    </tr>\n",
       "    <tr>\n",
       "      <th>September</th>\n",
       "      <td>1.362933</td>\n",
       "      <td>0.0</td>\n",
       "      <td>0.0</td>\n",
       "      <td>3.000000</td>\n",
       "      <td>0.000000</td>\n",
       "      <td>3.000000</td>\n",
       "      <td>0.000000</td>\n",
       "      <td>0.0</td>\n",
       "      <td>3.000000</td>\n",
       "      <td>1.362933</td>\n",
       "    </tr>\n",
       "    <tr>\n",
       "      <th>October</th>\n",
       "      <td>0.000000</td>\n",
       "      <td>0.0</td>\n",
       "      <td>0.0</td>\n",
       "      <td>3.000000</td>\n",
       "      <td>0.000000</td>\n",
       "      <td>3.000000</td>\n",
       "      <td>3.000000</td>\n",
       "      <td>0.0</td>\n",
       "      <td>0.000000</td>\n",
       "      <td>2.955475</td>\n",
       "    </tr>\n",
       "    <tr>\n",
       "      <th>November</th>\n",
       "      <td>3.000000</td>\n",
       "      <td>0.0</td>\n",
       "      <td>0.0</td>\n",
       "      <td>2.056421</td>\n",
       "      <td>0.000000</td>\n",
       "      <td>1.112842</td>\n",
       "      <td>3.000000</td>\n",
       "      <td>0.0</td>\n",
       "      <td>0.000000</td>\n",
       "      <td>3.000000</td>\n",
       "    </tr>\n",
       "    <tr>\n",
       "      <th>December</th>\n",
       "      <td>3.000000</td>\n",
       "      <td>3.0</td>\n",
       "      <td>0.0</td>\n",
       "      <td>0.427951</td>\n",
       "      <td>3.000000</td>\n",
       "      <td>0.000000</td>\n",
       "      <td>0.000000</td>\n",
       "      <td>0.0</td>\n",
       "      <td>0.000000</td>\n",
       "      <td>3.000000</td>\n",
       "    </tr>\n",
       "  </tbody>\n",
       "</table>\n",
       "</div>"
      ],
      "text/plain": [
       "              Print   TV  SEO   AdWords  Facebook  LinkedIn  Instagram  \\\n",
       "January    3.000000  0.0  0.0  1.333333  0.000000  0.000000   2.666667   \n",
       "February   3.000000  0.0  0.0  2.395500  3.000000  0.000000   0.000000   \n",
       "March      0.000000  0.0  0.0  3.000000  0.000000  3.000000   1.389648   \n",
       "April      0.000000  0.0  0.0  3.000000  0.000000  3.000000   3.000000   \n",
       "May        1.804100  0.0  0.0  0.000000  0.000000  0.000000   3.000000   \n",
       "June       3.000000  0.0  0.0  0.000000  0.000000  0.000000   3.000000   \n",
       "July       1.123777  0.0  0.0  3.000000  1.123777  0.000000   3.000000   \n",
       "August     3.000000  0.0  0.0  1.827294  0.000000  0.654588   0.000000   \n",
       "September  1.362933  0.0  0.0  3.000000  0.000000  3.000000   0.000000   \n",
       "October    0.000000  0.0  0.0  3.000000  0.000000  3.000000   3.000000   \n",
       "November   3.000000  0.0  0.0  2.056421  0.000000  1.112842   3.000000   \n",
       "December   3.000000  3.0  0.0  0.427951  3.000000  0.000000   0.000000   \n",
       "\n",
       "           Snapchat   Twitter     Email  \n",
       "January         0.0  0.000000  3.000000  \n",
       "February        0.0  1.791000  0.000000  \n",
       "March           0.0  3.000000  0.000000  \n",
       "April           0.0  1.596856  0.000000  \n",
       "May             0.0  3.000000  3.000000  \n",
       "June            0.0  2.020172  3.000000  \n",
       "July            0.0  3.000000  0.000000  \n",
       "August          0.0  3.000000  3.000000  \n",
       "September       0.0  3.000000  1.362933  \n",
       "October         0.0  0.000000  2.955475  \n",
       "November        0.0  0.000000  3.000000  \n",
       "December        0.0  0.000000  3.000000  "
      ]
     },
     "execution_count": 27,
     "metadata": {},
     "output_type": "execute_result"
    }
   ],
   "source": [
    "output = pd.DataFrame(output)\n",
    "output.columns = columns\n",
    "output\n",
    "\n",
    "output.index = list(roi_mat.index)\n",
    "output"
   ]
  },
  {
   "cell_type": "markdown",
   "id": "40944db4",
   "metadata": {},
   "source": [
    "## 8. A stable budget is defined as a monthly allocation such that for each platform the monthly change in spend is no more than $1M. Is the allocation you found stable? If it isn’t, you do not need to solve a new optimization model. Describe how my might model this?"
   ]
  },
  {
   "cell_type": "markdown",
   "id": "0608f541",
   "metadata": {},
   "source": [
    "In the for loop, you could create a variable that stores the previous allocations and create new contraints that ensure the new variables are within $1M of the previous allocation."
   ]
  },
  {
   "cell_type": "code",
   "execution_count": 28,
   "id": "c3b3a510",
   "metadata": {},
   "outputs": [],
   "source": [
    "budget = 10\n",
    "output = []\n",
    "months = len(roi_mat)\n",
    "columns = roi_mat.columns\n",
    "num_dv = len(columns)\n",
    "\n",
    "for month in range(months):\n",
    "\n",
    "    model = gp.Model()\n",
    "    modelX = model.addMVar(len(columns), ub = single_max)\n",
    "\n",
    "    model.setObjective(gp.quicksum((roi_mat.iloc[month, i])/100*modelX[i] for i in range(len(columns))), sense=gp.GRB.MAXIMIZE)\n",
    "\n",
    "    conlist = [0]*5\n",
    "    conlist[0] = model.addConstr((modelX[columns.get_loc('Print')] + modelX[columns.get_loc('TV')]) <= (modelX[columns.get_loc('Facebook')] + modelX[columns.get_loc('Email')]))\n",
    "    conlist[1] = model.addConstr(gp.quicksum(modelX[i] for i in social_media_list) >= ratio * (modelX[columns.get_loc('SEO')] + modelX[columns.get_loc('AdWords')]))\n",
    "    conlist[2] = model.addConstr(gp.quicksum(modelX[i] for i in range(num_dv)) <= budget)\n",
    "    \n",
    "    model.Params.OutputFlag = 0 \n",
    "\n",
    "    if month == 0:\n",
    "        model.optimize()\n",
    "    else:\n",
    "        conlist[3] = model.addConstrs(modelX[i] - values[i] <= 1 for i in range(num_dv))\n",
    "        conlist[4] = model.addConstrs(modelX[i] - values[i] >= -1 for i in range(num_dv))\n",
    "        model.optimize()\n",
    "\n",
    "    #print(model.x)\n",
    "    #print(model.objval)\n",
    "    \n",
    "    values = model.x\n",
    "    output.append(values)\n",
    "\n",
    "    budget += (model.objval/2)\n"
   ]
  },
  {
   "cell_type": "code",
   "execution_count": 29,
   "id": "14a95036",
   "metadata": {},
   "outputs": [
    {
     "data": {
      "text/html": [
       "<div>\n",
       "<style scoped>\n",
       "    .dataframe tbody tr th:only-of-type {\n",
       "        vertical-align: middle;\n",
       "    }\n",
       "\n",
       "    .dataframe tbody tr th {\n",
       "        vertical-align: top;\n",
       "    }\n",
       "\n",
       "    .dataframe thead th {\n",
       "        text-align: right;\n",
       "    }\n",
       "</style>\n",
       "<table border=\"1\" class=\"dataframe\">\n",
       "  <thead>\n",
       "    <tr style=\"text-align: right;\">\n",
       "      <th></th>\n",
       "      <th>Print</th>\n",
       "      <th>TV</th>\n",
       "      <th>SEO</th>\n",
       "      <th>AdWords</th>\n",
       "      <th>Facebook</th>\n",
       "      <th>LinkedIn</th>\n",
       "      <th>Instagram</th>\n",
       "      <th>Snapchat</th>\n",
       "      <th>Twitter</th>\n",
       "      <th>Email</th>\n",
       "    </tr>\n",
       "  </thead>\n",
       "  <tbody>\n",
       "    <tr>\n",
       "      <th>January</th>\n",
       "      <td>3.000000</td>\n",
       "      <td>0.0</td>\n",
       "      <td>0.0</td>\n",
       "      <td>1.333333</td>\n",
       "      <td>0.0</td>\n",
       "      <td>0.0</td>\n",
       "      <td>2.666667</td>\n",
       "      <td>0.0</td>\n",
       "      <td>0.000000</td>\n",
       "      <td>3.000000</td>\n",
       "    </tr>\n",
       "    <tr>\n",
       "      <th>February</th>\n",
       "      <td>3.000000</td>\n",
       "      <td>0.0</td>\n",
       "      <td>0.0</td>\n",
       "      <td>1.728833</td>\n",
       "      <td>1.0</td>\n",
       "      <td>0.0</td>\n",
       "      <td>1.666667</td>\n",
       "      <td>0.0</td>\n",
       "      <td>0.791000</td>\n",
       "      <td>2.000000</td>\n",
       "    </tr>\n",
       "    <tr>\n",
       "      <th>March</th>\n",
       "      <td>2.000000</td>\n",
       "      <td>0.0</td>\n",
       "      <td>0.0</td>\n",
       "      <td>2.124327</td>\n",
       "      <td>0.0</td>\n",
       "      <td>1.0</td>\n",
       "      <td>1.457654</td>\n",
       "      <td>0.0</td>\n",
       "      <td>1.791000</td>\n",
       "      <td>2.000000</td>\n",
       "    </tr>\n",
       "    <tr>\n",
       "      <th>April</th>\n",
       "      <td>1.000000</td>\n",
       "      <td>0.0</td>\n",
       "      <td>0.0</td>\n",
       "      <td>2.852807</td>\n",
       "      <td>0.0</td>\n",
       "      <td>2.0</td>\n",
       "      <td>2.457654</td>\n",
       "      <td>0.0</td>\n",
       "      <td>1.247960</td>\n",
       "      <td>1.000000</td>\n",
       "    </tr>\n",
       "    <tr>\n",
       "      <th>May</th>\n",
       "      <td>0.659846</td>\n",
       "      <td>0.0</td>\n",
       "      <td>0.0</td>\n",
       "      <td>1.852807</td>\n",
       "      <td>0.0</td>\n",
       "      <td>1.0</td>\n",
       "      <td>3.000000</td>\n",
       "      <td>0.0</td>\n",
       "      <td>2.247960</td>\n",
       "      <td>2.000000</td>\n",
       "    </tr>\n",
       "    <tr>\n",
       "      <th>June</th>\n",
       "      <td>1.659846</td>\n",
       "      <td>0.0</td>\n",
       "      <td>0.0</td>\n",
       "      <td>0.852807</td>\n",
       "      <td>0.0</td>\n",
       "      <td>0.0</td>\n",
       "      <td>3.000000</td>\n",
       "      <td>0.0</td>\n",
       "      <td>2.452584</td>\n",
       "      <td>3.000000</td>\n",
       "    </tr>\n",
       "    <tr>\n",
       "      <th>July</th>\n",
       "      <td>1.335724</td>\n",
       "      <td>0.0</td>\n",
       "      <td>0.0</td>\n",
       "      <td>1.852807</td>\n",
       "      <td>0.0</td>\n",
       "      <td>0.0</td>\n",
       "      <td>3.000000</td>\n",
       "      <td>0.0</td>\n",
       "      <td>3.000000</td>\n",
       "      <td>2.000000</td>\n",
       "    </tr>\n",
       "    <tr>\n",
       "      <th>August</th>\n",
       "      <td>0.917839</td>\n",
       "      <td>0.0</td>\n",
       "      <td>0.0</td>\n",
       "      <td>2.500000</td>\n",
       "      <td>0.0</td>\n",
       "      <td>0.0</td>\n",
       "      <td>2.000000</td>\n",
       "      <td>0.0</td>\n",
       "      <td>3.000000</td>\n",
       "      <td>3.000000</td>\n",
       "    </tr>\n",
       "    <tr>\n",
       "      <th>September</th>\n",
       "      <td>1.917839</td>\n",
       "      <td>0.0</td>\n",
       "      <td>0.0</td>\n",
       "      <td>2.500000</td>\n",
       "      <td>0.0</td>\n",
       "      <td>1.0</td>\n",
       "      <td>1.000000</td>\n",
       "      <td>0.0</td>\n",
       "      <td>3.000000</td>\n",
       "      <td>2.238275</td>\n",
       "    </tr>\n",
       "    <tr>\n",
       "      <th>October</th>\n",
       "      <td>0.917839</td>\n",
       "      <td>0.0</td>\n",
       "      <td>0.0</td>\n",
       "      <td>3.000000</td>\n",
       "      <td>0.0</td>\n",
       "      <td>2.0</td>\n",
       "      <td>2.000000</td>\n",
       "      <td>0.0</td>\n",
       "      <td>2.000000</td>\n",
       "      <td>1.960641</td>\n",
       "    </tr>\n",
       "    <tr>\n",
       "      <th>November</th>\n",
       "      <td>1.917839</td>\n",
       "      <td>0.0</td>\n",
       "      <td>0.0</td>\n",
       "      <td>2.500000</td>\n",
       "      <td>0.0</td>\n",
       "      <td>1.0</td>\n",
       "      <td>3.000000</td>\n",
       "      <td>0.0</td>\n",
       "      <td>1.000000</td>\n",
       "      <td>2.664779</td>\n",
       "    </tr>\n",
       "    <tr>\n",
       "      <th>December</th>\n",
       "      <td>2.917839</td>\n",
       "      <td>1.0</td>\n",
       "      <td>0.0</td>\n",
       "      <td>1.804395</td>\n",
       "      <td>1.0</td>\n",
       "      <td>0.0</td>\n",
       "      <td>2.000000</td>\n",
       "      <td>0.0</td>\n",
       "      <td>0.608790</td>\n",
       "      <td>3.000000</td>\n",
       "    </tr>\n",
       "  </tbody>\n",
       "</table>\n",
       "</div>"
      ],
      "text/plain": [
       "              Print   TV  SEO   AdWords  Facebook  LinkedIn  Instagram  \\\n",
       "January    3.000000  0.0  0.0  1.333333       0.0       0.0   2.666667   \n",
       "February   3.000000  0.0  0.0  1.728833       1.0       0.0   1.666667   \n",
       "March      2.000000  0.0  0.0  2.124327       0.0       1.0   1.457654   \n",
       "April      1.000000  0.0  0.0  2.852807       0.0       2.0   2.457654   \n",
       "May        0.659846  0.0  0.0  1.852807       0.0       1.0   3.000000   \n",
       "June       1.659846  0.0  0.0  0.852807       0.0       0.0   3.000000   \n",
       "July       1.335724  0.0  0.0  1.852807       0.0       0.0   3.000000   \n",
       "August     0.917839  0.0  0.0  2.500000       0.0       0.0   2.000000   \n",
       "September  1.917839  0.0  0.0  2.500000       0.0       1.0   1.000000   \n",
       "October    0.917839  0.0  0.0  3.000000       0.0       2.0   2.000000   \n",
       "November   1.917839  0.0  0.0  2.500000       0.0       1.0   3.000000   \n",
       "December   2.917839  1.0  0.0  1.804395       1.0       0.0   2.000000   \n",
       "\n",
       "           Snapchat   Twitter     Email  \n",
       "January         0.0  0.000000  3.000000  \n",
       "February        0.0  0.791000  2.000000  \n",
       "March           0.0  1.791000  2.000000  \n",
       "April           0.0  1.247960  1.000000  \n",
       "May             0.0  2.247960  2.000000  \n",
       "June            0.0  2.452584  3.000000  \n",
       "July            0.0  3.000000  2.000000  \n",
       "August          0.0  3.000000  3.000000  \n",
       "September       0.0  3.000000  2.238275  \n",
       "October         0.0  2.000000  1.960641  \n",
       "November        0.0  1.000000  2.664779  \n",
       "December        0.0  0.608790  3.000000  "
      ]
     },
     "execution_count": 29,
     "metadata": {},
     "output_type": "execute_result"
    }
   ],
   "source": [
    "output = pd.DataFrame(output)\n",
    "output.columns = columns\n",
    "output\n",
    "\n",
    "output.index = list(roi_mat.index)\n",
    "output"
   ]
  }
 ],
 "metadata": {
  "kernelspec": {
   "display_name": "Python 3 (ipykernel)",
   "language": "python",
   "name": "python3"
  },
  "language_info": {
   "codemirror_mode": {
    "name": "ipython",
    "version": 3
   },
   "file_extension": ".py",
   "mimetype": "text/x-python",
   "name": "python",
   "nbconvert_exporter": "python",
   "pygments_lexer": "ipython3",
   "version": "3.11.4"
  }
 },
 "nbformat": 4,
 "nbformat_minor": 5
}
