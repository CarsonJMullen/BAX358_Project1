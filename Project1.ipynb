{
 "cells": [
  {
   "cell_type": "code",
   "execution_count": 1,
   "id": "4e5e8f10",
   "metadata": {},
   "outputs": [],
   "source": [
    "#load libraries\n",
    "\n",
    "import gurobipy as gp\n",
    "import numpy as np\n",
    "import pandas as pd"
   ]
  },
  {
   "cell_type": "code",
   "execution_count": 2,
   "id": "231beead",
   "metadata": {},
   "outputs": [
    {
     "data": {
      "text/html": [
       "<div>\n",
       "<style scoped>\n",
       "    .dataframe tbody tr th:only-of-type {\n",
       "        vertical-align: middle;\n",
       "    }\n",
       "\n",
       "    .dataframe tbody tr th {\n",
       "        vertical-align: top;\n",
       "    }\n",
       "\n",
       "    .dataframe thead th {\n",
       "        text-align: right;\n",
       "    }\n",
       "</style>\n",
       "<table border=\"1\" class=\"dataframe\">\n",
       "  <thead>\n",
       "    <tr style=\"text-align: right;\">\n",
       "      <th></th>\n",
       "      <th>Platform</th>\n",
       "      <th>Print</th>\n",
       "      <th>TV</th>\n",
       "      <th>SEO</th>\n",
       "      <th>AdWords</th>\n",
       "      <th>Facebook</th>\n",
       "      <th>LinkedIn</th>\n",
       "      <th>Instagram</th>\n",
       "      <th>Snapchat</th>\n",
       "      <th>Twitter</th>\n",
       "      <th>Email</th>\n",
       "    </tr>\n",
       "  </thead>\n",
       "  <tbody>\n",
       "    <tr>\n",
       "      <th>0</th>\n",
       "      <td>ROI</td>\n",
       "      <td>0.031</td>\n",
       "      <td>0.049</td>\n",
       "      <td>0.024</td>\n",
       "      <td>0.039</td>\n",
       "      <td>0.016</td>\n",
       "      <td>0.024</td>\n",
       "      <td>0.046</td>\n",
       "      <td>0.026</td>\n",
       "      <td>0.033</td>\n",
       "      <td>0.044</td>\n",
       "    </tr>\n",
       "    <tr>\n",
       "      <th>1</th>\n",
       "      <td>Second Firms ROI Estimate</td>\n",
       "      <td>0.049</td>\n",
       "      <td>0.023</td>\n",
       "      <td>0.024</td>\n",
       "      <td>0.039</td>\n",
       "      <td>0.044</td>\n",
       "      <td>0.046</td>\n",
       "      <td>0.026</td>\n",
       "      <td>0.019</td>\n",
       "      <td>0.037</td>\n",
       "      <td>0.026</td>\n",
       "    </tr>\n",
       "  </tbody>\n",
       "</table>\n",
       "</div>"
      ],
      "text/plain": [
       "                    Platform  Print     TV    SEO  AdWords  Facebook  \\\n",
       "0                        ROI  0.031  0.049  0.024    0.039     0.016   \n",
       "1  Second Firms ROI Estimate  0.049  0.023  0.024    0.039     0.044   \n",
       "\n",
       "   LinkedIn  Instagram  Snapchat  Twitter  Email  \n",
       "0     0.024      0.046     0.026    0.033  0.044  \n",
       "1     0.046      0.026     0.019    0.037  0.026  "
      ]
     },
     "execution_count": 2,
     "metadata": {},
     "output_type": "execute_result"
    }
   ],
   "source": [
    "# Define initial dataframe\n",
    "\n",
    "ROIs = pd.read_csv('ROI_data.csv')\n",
    "ROIs"
   ]
  },
  {
   "cell_type": "code",
   "execution_count": 3,
   "id": "d5c51358",
   "metadata": {},
   "outputs": [],
   "source": [
    "roi_mat = pd.read_csv('roi_mat.csv')"
   ]
  },
  {
   "cell_type": "code",
   "execution_count": 4,
   "id": "5d3f37eb",
   "metadata": {},
   "outputs": [
    {
     "data": {
      "text/html": [
       "<div>\n",
       "<style scoped>\n",
       "    .dataframe tbody tr th:only-of-type {\n",
       "        vertical-align: middle;\n",
       "    }\n",
       "\n",
       "    .dataframe tbody tr th {\n",
       "        vertical-align: top;\n",
       "    }\n",
       "\n",
       "    .dataframe thead th {\n",
       "        text-align: right;\n",
       "    }\n",
       "</style>\n",
       "<table border=\"1\" class=\"dataframe\">\n",
       "  <thead>\n",
       "    <tr style=\"text-align: right;\">\n",
       "      <th></th>\n",
       "      <th>Unnamed: 0</th>\n",
       "      <th>Print</th>\n",
       "      <th>TV</th>\n",
       "      <th>SEO</th>\n",
       "      <th>AdWords</th>\n",
       "      <th>Facebook</th>\n",
       "      <th>LinkedIn</th>\n",
       "      <th>Instagram</th>\n",
       "      <th>Snapchat</th>\n",
       "      <th>Twitter</th>\n",
       "      <th>Email</th>\n",
       "    </tr>\n",
       "  </thead>\n",
       "  <tbody>\n",
       "    <tr>\n",
       "      <th>0</th>\n",
       "      <td>January</td>\n",
       "      <td>1</td>\n",
       "      <td>13</td>\n",
       "      <td>25</td>\n",
       "      <td>37</td>\n",
       "      <td>49</td>\n",
       "      <td>61</td>\n",
       "      <td>73</td>\n",
       "      <td>85</td>\n",
       "      <td>97</td>\n",
       "      <td>109</td>\n",
       "    </tr>\n",
       "    <tr>\n",
       "      <th>1</th>\n",
       "      <td>February</td>\n",
       "      <td>2</td>\n",
       "      <td>14</td>\n",
       "      <td>26</td>\n",
       "      <td>38</td>\n",
       "      <td>50</td>\n",
       "      <td>62</td>\n",
       "      <td>74</td>\n",
       "      <td>86</td>\n",
       "      <td>98</td>\n",
       "      <td>110</td>\n",
       "    </tr>\n",
       "    <tr>\n",
       "      <th>2</th>\n",
       "      <td>March</td>\n",
       "      <td>3</td>\n",
       "      <td>15</td>\n",
       "      <td>27</td>\n",
       "      <td>39</td>\n",
       "      <td>51</td>\n",
       "      <td>63</td>\n",
       "      <td>75</td>\n",
       "      <td>87</td>\n",
       "      <td>99</td>\n",
       "      <td>111</td>\n",
       "    </tr>\n",
       "    <tr>\n",
       "      <th>3</th>\n",
       "      <td>April</td>\n",
       "      <td>4</td>\n",
       "      <td>16</td>\n",
       "      <td>28</td>\n",
       "      <td>40</td>\n",
       "      <td>52</td>\n",
       "      <td>64</td>\n",
       "      <td>76</td>\n",
       "      <td>88</td>\n",
       "      <td>100</td>\n",
       "      <td>112</td>\n",
       "    </tr>\n",
       "    <tr>\n",
       "      <th>4</th>\n",
       "      <td>May</td>\n",
       "      <td>5</td>\n",
       "      <td>17</td>\n",
       "      <td>29</td>\n",
       "      <td>41</td>\n",
       "      <td>53</td>\n",
       "      <td>65</td>\n",
       "      <td>77</td>\n",
       "      <td>89</td>\n",
       "      <td>101</td>\n",
       "      <td>113</td>\n",
       "    </tr>\n",
       "    <tr>\n",
       "      <th>5</th>\n",
       "      <td>June</td>\n",
       "      <td>6</td>\n",
       "      <td>18</td>\n",
       "      <td>30</td>\n",
       "      <td>42</td>\n",
       "      <td>54</td>\n",
       "      <td>66</td>\n",
       "      <td>78</td>\n",
       "      <td>90</td>\n",
       "      <td>102</td>\n",
       "      <td>114</td>\n",
       "    </tr>\n",
       "    <tr>\n",
       "      <th>6</th>\n",
       "      <td>July</td>\n",
       "      <td>7</td>\n",
       "      <td>19</td>\n",
       "      <td>31</td>\n",
       "      <td>43</td>\n",
       "      <td>55</td>\n",
       "      <td>67</td>\n",
       "      <td>79</td>\n",
       "      <td>91</td>\n",
       "      <td>103</td>\n",
       "      <td>115</td>\n",
       "    </tr>\n",
       "    <tr>\n",
       "      <th>7</th>\n",
       "      <td>August</td>\n",
       "      <td>8</td>\n",
       "      <td>20</td>\n",
       "      <td>32</td>\n",
       "      <td>44</td>\n",
       "      <td>56</td>\n",
       "      <td>68</td>\n",
       "      <td>80</td>\n",
       "      <td>92</td>\n",
       "      <td>104</td>\n",
       "      <td>116</td>\n",
       "    </tr>\n",
       "    <tr>\n",
       "      <th>8</th>\n",
       "      <td>September</td>\n",
       "      <td>9</td>\n",
       "      <td>21</td>\n",
       "      <td>33</td>\n",
       "      <td>45</td>\n",
       "      <td>57</td>\n",
       "      <td>69</td>\n",
       "      <td>81</td>\n",
       "      <td>93</td>\n",
       "      <td>105</td>\n",
       "      <td>117</td>\n",
       "    </tr>\n",
       "    <tr>\n",
       "      <th>9</th>\n",
       "      <td>October</td>\n",
       "      <td>10</td>\n",
       "      <td>22</td>\n",
       "      <td>34</td>\n",
       "      <td>46</td>\n",
       "      <td>58</td>\n",
       "      <td>70</td>\n",
       "      <td>82</td>\n",
       "      <td>94</td>\n",
       "      <td>106</td>\n",
       "      <td>118</td>\n",
       "    </tr>\n",
       "    <tr>\n",
       "      <th>10</th>\n",
       "      <td>November</td>\n",
       "      <td>11</td>\n",
       "      <td>23</td>\n",
       "      <td>35</td>\n",
       "      <td>47</td>\n",
       "      <td>59</td>\n",
       "      <td>71</td>\n",
       "      <td>83</td>\n",
       "      <td>95</td>\n",
       "      <td>107</td>\n",
       "      <td>119</td>\n",
       "    </tr>\n",
       "    <tr>\n",
       "      <th>11</th>\n",
       "      <td>December</td>\n",
       "      <td>12</td>\n",
       "      <td>24</td>\n",
       "      <td>36</td>\n",
       "      <td>48</td>\n",
       "      <td>60</td>\n",
       "      <td>72</td>\n",
       "      <td>84</td>\n",
       "      <td>96</td>\n",
       "      <td>108</td>\n",
       "      <td>120</td>\n",
       "    </tr>\n",
       "  </tbody>\n",
       "</table>\n",
       "</div>"
      ],
      "text/plain": [
       "   Unnamed: 0  Print  TV  SEO  AdWords  Facebook  LinkedIn  Instagram  \\\n",
       "0     January      1  13   25       37        49        61         73   \n",
       "1    February      2  14   26       38        50        62         74   \n",
       "2       March      3  15   27       39        51        63         75   \n",
       "3       April      4  16   28       40        52        64         76   \n",
       "4         May      5  17   29       41        53        65         77   \n",
       "5        June      6  18   30       42        54        66         78   \n",
       "6        July      7  19   31       43        55        67         79   \n",
       "7      August      8  20   32       44        56        68         80   \n",
       "8   September      9  21   33       45        57        69         81   \n",
       "9     October     10  22   34       46        58        70         82   \n",
       "10   November     11  23   35       47        59        71         83   \n",
       "11   December     12  24   36       48        60        72         84   \n",
       "\n",
       "    Snapchat  Twitter  Email  \n",
       "0         85       97    109  \n",
       "1         86       98    110  \n",
       "2         87       99    111  \n",
       "3         88      100    112  \n",
       "4         89      101    113  \n",
       "5         90      102    114  \n",
       "6         91      103    115  \n",
       "7         92      104    116  \n",
       "8         93      105    117  \n",
       "9         94      106    118  \n",
       "10        95      107    119  \n",
       "11        96      108    120  "
      ]
     },
     "execution_count": 4,
     "metadata": {},
     "output_type": "execute_result"
    }
   ],
   "source": [
    "pd.read_csv('index_data.csv')"
   ]
  },
  {
   "cell_type": "markdown",
   "id": "9eebb84f",
   "metadata": {},
   "source": [
    "# 3. Formulate the marketing budget allocation problem as a linear program. Use gurobi to find the optimal budget allocation."
   ]
  },
  {
   "cell_type": "code",
   "execution_count": 5,
   "id": "078c78ec",
   "metadata": {},
   "outputs": [],
   "source": [
    "# Define constants\n",
    "\n",
    "budget = 10"
   ]
  },
  {
   "cell_type": "code",
   "execution_count": 6,
   "id": "5a206e69",
   "metadata": {},
   "outputs": [
    {
     "name": "stdout",
     "output_type": "stream",
     "text": [
      "Restricted license - for non-production use only - expires 2024-10-28\n"
     ]
    },
    {
     "data": {
      "text/plain": [
       "<MConstr () *awaiting model update*>"
      ]
     },
     "execution_count": 6,
     "metadata": {},
     "output_type": "execute_result"
    }
   ],
   "source": [
    "# Find optimal solution for initial consulting firm's estimates\n",
    "\n",
    "model1 = gp.Model()\n",
    "model1X = model1.addMVar(10, ub = 3)\n",
    "\n",
    "model1.setObjective(gp.quicksum(ROIs.iloc[0][i+1]*model1X[i] for i in range(10)), sense=gp.GRB.MAXIMIZE)\n",
    "\n",
    "model1.addConstr((model1X[0] + model1X[1]) <= (model1X[4] + model1X[9]))\n",
    "model1.addConstr(gp.quicksum(model1X[i] for i in range(4, 9)) >= 2 * (model1X[2] + model1X[3]))\n",
    "model1.addConstr(gp.quicksum(model1X[i] for i in range(10)) <= 10)\n"
   ]
  },
  {
   "cell_type": "code",
   "execution_count": 7,
   "id": "1b60c762",
   "metadata": {},
   "outputs": [
    {
     "name": "stdout",
     "output_type": "stream",
     "text": [
      "Gurobi Optimizer version 10.0.2 build v10.0.2rc0 (mac64[arm])\n",
      "\n",
      "CPU model: Apple M1\n",
      "Thread count: 8 physical cores, 8 logical processors, using up to 8 threads\n",
      "\n",
      "Optimize a model with 3 rows, 10 columns and 21 nonzeros\n",
      "Model fingerprint: 0xcac47b03\n",
      "Coefficient statistics:\n",
      "  Matrix range     [1e+00, 2e+00]\n",
      "  Objective range  [2e-02, 5e-02]\n",
      "  Bounds range     [3e+00, 3e+00]\n",
      "  RHS range        [1e+01, 1e+01]\n",
      "Presolve time: 0.00s\n",
      "Presolved: 3 rows, 10 columns, 21 nonzeros\n",
      "\n",
      "Iteration    Objective       Primal Inf.    Dual Inf.      Time\n",
      "       0    4.9000000e-01   1.700000e+01   0.000000e+00      0s\n",
      "       1    4.5600000e-01   0.000000e+00   0.000000e+00      0s\n",
      "\n",
      "Solved in 1 iterations and 0.01 seconds (0.00 work units)\n",
      "Optimal objective  4.560000000e-01\n"
     ]
    }
   ],
   "source": [
    "model1.optimize()"
   ]
  },
  {
   "cell_type": "code",
   "execution_count": 8,
   "id": "5268df06",
   "metadata": {},
   "outputs": [
    {
     "data": {
      "text/plain": [
       "[0.0, 3.0, 0.0, 1.0, 0.0, 0.0, 3.0, 0.0, 0.0, 3.0]"
      ]
     },
     "execution_count": 8,
     "metadata": {},
     "output_type": "execute_result"
    }
   ],
   "source": [
    "model1.x"
   ]
  },
  {
   "cell_type": "code",
   "execution_count": 9,
   "id": "a15a09b8",
   "metadata": {},
   "outputs": [
    {
     "data": {
      "text/plain": [
       "0.45600000000000007"
      ]
     },
     "execution_count": 9,
     "metadata": {},
     "output_type": "execute_result"
    }
   ],
   "source": [
    "model1.objVal"
   ]
  },
  {
   "cell_type": "code",
   "execution_count": 10,
   "id": "9ad6001f",
   "metadata": {},
   "outputs": [
    {
     "data": {
      "text/html": [
       "<div>\n",
       "<style scoped>\n",
       "    .dataframe tbody tr th:only-of-type {\n",
       "        vertical-align: middle;\n",
       "    }\n",
       "\n",
       "    .dataframe tbody tr th {\n",
       "        vertical-align: top;\n",
       "    }\n",
       "\n",
       "    .dataframe thead th {\n",
       "        text-align: right;\n",
       "    }\n",
       "</style>\n",
       "<table border=\"1\" class=\"dataframe\">\n",
       "  <thead>\n",
       "    <tr style=\"text-align: right;\">\n",
       "      <th></th>\n",
       "      <th>Platform</th>\n",
       "      <th>Print</th>\n",
       "      <th>TV</th>\n",
       "      <th>SEO</th>\n",
       "      <th>AdWords</th>\n",
       "      <th>Facebook</th>\n",
       "      <th>LinkedIn</th>\n",
       "      <th>Instagram</th>\n",
       "      <th>Snapchat</th>\n",
       "      <th>Twitter</th>\n",
       "      <th>Email</th>\n",
       "    </tr>\n",
       "  </thead>\n",
       "  <tbody>\n",
       "    <tr>\n",
       "      <th>0</th>\n",
       "      <td>ROI</td>\n",
       "      <td>0.031</td>\n",
       "      <td>0.049</td>\n",
       "      <td>0.024</td>\n",
       "      <td>0.039</td>\n",
       "      <td>0.016</td>\n",
       "      <td>0.024</td>\n",
       "      <td>0.046</td>\n",
       "      <td>0.026</td>\n",
       "      <td>0.033</td>\n",
       "      <td>0.044</td>\n",
       "    </tr>\n",
       "    <tr>\n",
       "      <th>1</th>\n",
       "      <td>Second Firms ROI Estimate</td>\n",
       "      <td>0.049</td>\n",
       "      <td>0.023</td>\n",
       "      <td>0.024</td>\n",
       "      <td>0.039</td>\n",
       "      <td>0.044</td>\n",
       "      <td>0.046</td>\n",
       "      <td>0.026</td>\n",
       "      <td>0.019</td>\n",
       "      <td>0.037</td>\n",
       "      <td>0.026</td>\n",
       "    </tr>\n",
       "  </tbody>\n",
       "</table>\n",
       "</div>"
      ],
      "text/plain": [
       "                    Platform  Print     TV    SEO  AdWords  Facebook  \\\n",
       "0                        ROI  0.031  0.049  0.024    0.039     0.016   \n",
       "1  Second Firms ROI Estimate  0.049  0.023  0.024    0.039     0.044   \n",
       "\n",
       "   LinkedIn  Instagram  Snapchat  Twitter  Email  \n",
       "0     0.024      0.046     0.026    0.033  0.044  \n",
       "1     0.046      0.026     0.019    0.037  0.026  "
      ]
     },
     "execution_count": 10,
     "metadata": {},
     "output_type": "execute_result"
    }
   ],
   "source": [
    "ROIs"
   ]
  },
  {
   "cell_type": "code",
   "execution_count": 11,
   "id": "ea3ac21e",
   "metadata": {},
   "outputs": [],
   "source": [
    "model2 = gp.Model()\n",
    "model2X = model2.addMVar(10, ub = 3)\n",
    "\n",
    "model2.setObjective(gp.quicksum(ROIs.iloc[1][i+1]*model2X[i] for i in range(10)), sense=gp.GRB.MAXIMIZE)\n",
    "\n",
    "conlist = [0]*3\n",
    "conlist[0] = model2.addConstr((model2X[0] + model2X[1]) <= (model2X[4] + model2X[9]))\n",
    "conlist[1] = model2.addConstr(gp.quicksum(model2X[i] for i in range(4, 9)) >= 2 * (model2X[2] + model2X[3]))\n",
    "conlist[2] = model2.addConstr(gp.quicksum(model2X[i] for i in range(10)) <= 10)\n"
   ]
  },
  {
   "cell_type": "code",
   "execution_count": 12,
   "id": "69bc9c9c",
   "metadata": {},
   "outputs": [
    {
     "name": "stdout",
     "output_type": "stream",
     "text": [
      "Gurobi Optimizer version 10.0.2 build v10.0.2rc0 (mac64[arm])\n",
      "\n",
      "CPU model: Apple M1\n",
      "Thread count: 8 physical cores, 8 logical processors, using up to 8 threads\n",
      "\n",
      "Optimize a model with 3 rows, 10 columns and 21 nonzeros\n",
      "Model fingerprint: 0x2bfada38\n",
      "Coefficient statistics:\n",
      "  Matrix range     [1e+00, 2e+00]\n",
      "  Objective range  [2e-02, 5e-02]\n",
      "  Bounds range     [3e+00, 3e+00]\n",
      "  RHS range        [1e+01, 1e+01]\n",
      "Presolve time: 0.00s\n",
      "Presolved: 3 rows, 10 columns, 21 nonzeros\n",
      "\n",
      "Iteration    Objective       Primal Inf.    Dual Inf.      Time\n",
      "       0    4.9000000e-01   1.700000e+01   0.000000e+00      0s\n",
      "       1    4.5600000e-01   0.000000e+00   0.000000e+00      0s\n",
      "\n",
      "Solved in 1 iterations and 0.00 seconds (0.00 work units)\n",
      "Optimal objective  4.560000000e-01\n"
     ]
    }
   ],
   "source": [
    "model2.optimize()"
   ]
  },
  {
   "cell_type": "code",
   "execution_count": 13,
   "id": "777935f4",
   "metadata": {},
   "outputs": [
    {
     "data": {
      "text/plain": [
       "[3.0, 0.0, 0.0, 1.0, 3.0, 3.0, 0.0, 0.0, 0.0, 0.0]"
      ]
     },
     "execution_count": 13,
     "metadata": {},
     "output_type": "execute_result"
    }
   ],
   "source": [
    "model2.x"
   ]
  },
  {
   "cell_type": "code",
   "execution_count": 14,
   "id": "1ecb03dc",
   "metadata": {},
   "outputs": [
    {
     "data": {
      "text/plain": [
       "0.45600000000000007"
      ]
     },
     "execution_count": 14,
     "metadata": {},
     "output_type": "execute_result"
    }
   ],
   "source": [
    "model2.objval"
   ]
  },
  {
   "cell_type": "markdown",
   "id": "2047f488",
   "metadata": {},
   "source": [
    "## 5a. Are the allocations the same?"
   ]
  },
  {
   "cell_type": "code",
   "execution_count": 15,
   "id": "894cfbf0",
   "metadata": {},
   "outputs": [
    {
     "data": {
      "text/plain": [
       "[0.0, 3.0, 0.0, 1.0, 0.0, 0.0, 3.0, 0.0, 0.0, 3.0]"
      ]
     },
     "execution_count": 15,
     "metadata": {},
     "output_type": "execute_result"
    }
   ],
   "source": [
    "model1.x"
   ]
  },
  {
   "cell_type": "code",
   "execution_count": 16,
   "id": "c31f0ec0",
   "metadata": {},
   "outputs": [
    {
     "data": {
      "text/plain": [
       "[3.0, 0.0, 0.0, 1.0, 3.0, 3.0, 0.0, 0.0, 0.0, 0.0]"
      ]
     },
     "execution_count": 16,
     "metadata": {},
     "output_type": "execute_result"
    }
   ],
   "source": [
    "model2.x"
   ]
  },
  {
   "cell_type": "code",
   "execution_count": 17,
   "id": "896b1d39",
   "metadata": {},
   "outputs": [
    {
     "data": {
      "text/plain": [
       "0.45600000000000007"
      ]
     },
     "execution_count": 17,
     "metadata": {},
     "output_type": "execute_result"
    }
   ],
   "source": [
    "model1.objVal"
   ]
  },
  {
   "cell_type": "code",
   "execution_count": 18,
   "id": "394f696d",
   "metadata": {},
   "outputs": [
    {
     "data": {
      "text/plain": [
       "0.45600000000000007"
      ]
     },
     "execution_count": 18,
     "metadata": {},
     "output_type": "execute_result"
    }
   ],
   "source": [
    "model2.objval"
   ]
  },
  {
   "cell_type": "markdown",
   "id": "5339aea1",
   "metadata": {},
   "source": [
    "The allocations are not the same, but the objective value is."
   ]
  },
  {
   "cell_type": "markdown",
   "id": "262dfe57",
   "metadata": {},
   "source": [
    "## 5b Assuming the first ROI data is correct, if you were to use the second allocation (the allocation that assumed the second ROI data was correct) how much lower would the objective be relative to the optimal objective (the one that uses the first ROI data and the first allocation)? "
   ]
  },
  {
   "cell_type": "code",
   "execution_count": 19,
   "id": "0e84f21e",
   "metadata": {},
   "outputs": [
    {
     "data": {
      "text/plain": [
       "0.252"
      ]
     },
     "execution_count": 19,
     "metadata": {},
     "output_type": "execute_result"
    }
   ],
   "source": [
    "sum(model2.x * ROIs.iloc[0][1:])"
   ]
  },
  {
   "cell_type": "code",
   "execution_count": 20,
   "id": "468b9044",
   "metadata": {},
   "outputs": [
    {
     "data": {
      "text/plain": [
       "-0.20400000000000007"
      ]
     },
     "execution_count": 20,
     "metadata": {},
     "output_type": "execute_result"
    }
   ],
   "source": [
    "# Difference\n",
    "\n",
    "sum(model2.x * ROIs.iloc[0][1:]) - model1.ObjVal\n"
   ]
  },
  {
   "cell_type": "markdown",
   "id": "2da9c52a",
   "metadata": {},
   "source": [
    "By using the second allocation for the first returns, the objective value is 0.204 less than what it would have been under the first allocation."
   ]
  },
  {
   "cell_type": "markdown",
   "id": "fd8ee4c0",
   "metadata": {},
   "source": [
    "## 5c. Assuming the second ROI data is correct, if you used the first allocation how much lower would the objective be relative to the optimal objective? "
   ]
  },
  {
   "cell_type": "code",
   "execution_count": 21,
   "id": "54ebb787",
   "metadata": {},
   "outputs": [
    {
     "data": {
      "text/plain": [
       "0.264"
      ]
     },
     "execution_count": 21,
     "metadata": {},
     "output_type": "execute_result"
    }
   ],
   "source": [
    "sum(model1.x*ROIs.iloc[1][1:])"
   ]
  },
  {
   "cell_type": "code",
   "execution_count": 22,
   "id": "39f95edc",
   "metadata": {},
   "outputs": [
    {
     "data": {
      "text/plain": [
       "-0.19200000000000006"
      ]
     },
     "execution_count": 22,
     "metadata": {},
     "output_type": "execute_result"
    }
   ],
   "source": [
    "sum(model1.x*ROIs.iloc[1][1:]) - model2.objval"
   ]
  },
  {
   "cell_type": "markdown",
   "id": "0b54c3a2",
   "metadata": {},
   "source": [
    "The first allocation is .192 lower than the second allocation if the first assumptions are correct."
   ]
  },
  {
   "cell_type": "markdown",
   "id": "12ad8f94",
   "metadata": {},
   "source": [
    "The third constraint is not useful is binding and decreases the maximum possible return. "
   ]
  },
  {
   "cell_type": "code",
   "execution_count": 23,
   "id": "46e46c83",
   "metadata": {},
   "outputs": [
    {
     "data": {
      "text/plain": [
       "[0.0, 3.0, 0.0, 1.0, 0.0, 0.0, 3.0, 0.0, 0.0, 3.0]"
      ]
     },
     "execution_count": 23,
     "metadata": {},
     "output_type": "execute_result"
    }
   ],
   "source": [
    "model1.x"
   ]
  },
  {
   "cell_type": "code",
   "execution_count": 24,
   "id": "510da038",
   "metadata": {},
   "outputs": [
    {
     "data": {
      "text/plain": [
       "[-inf, 0.039, -inf, 0.033, -inf, -inf, 0.039, -inf, -inf, 0.028999999999999998]"
      ]
     },
     "execution_count": 24,
     "metadata": {},
     "output_type": "execute_result"
    }
   ],
   "source": [
    "model1.SAObjLow"
   ]
  },
  {
   "cell_type": "code",
   "execution_count": 25,
   "id": "35ba58b9",
   "metadata": {},
   "outputs": [
    {
     "data": {
      "text/plain": [
       "[0.049,\n",
       " 0.062,\n",
       " 0.039,\n",
       " 0.046,\n",
       " 0.028999999999999998,\n",
       " 0.039,\n",
       " inf,\n",
       " 0.039,\n",
       " 0.039,\n",
       " inf]"
      ]
     },
     "execution_count": 25,
     "metadata": {},
     "output_type": "execute_result"
    }
   ],
   "source": [
    "model1.SAObjUp"
   ]
  },
  {
   "cell_type": "markdown",
   "id": "66d600da",
   "metadata": {},
   "source": [
    "## 7. Your boss has gained permission to reinvest half of the return. For example, if the marketing obtains a 4% return in January, the budget of February will be $10M + $10M × 4% × 50% = $10.2M. The monthly ROI for next year is given in an attached csv file. The three constraints given by your boss are still in place for each month. What is the optimal allocation for each month?"
   ]
  },
  {
   "cell_type": "code",
   "execution_count": 26,
   "id": "a63bf167",
   "metadata": {},
   "outputs": [
    {
     "name": "stdout",
     "output_type": "stream",
     "text": [
      "[3.0, 0.0, 0.0, 1.3333333333333333, 0.0, 0.0, 2.666666666666667, 0.0, 0.0, 3.0]\n",
      "0.373\n",
      "[3.0, 0.0, 0.0, 2.3955, 3.0, 0.0, 0.0, 0.0, 1.7910000000000004, 0.0]\n",
      "0.40629600000000005\n",
      "[0.0, 0.0, 0.0, 3.0, 0.0, 3.0, 1.389648000000001, 0.0, 3.0, 0.0]\n",
      "0.41441697600000005\n",
      "[0.0, 0.0, 0.0, 3.0, 0.0, 3.0, 3.0, 0.0, 1.5968564880000002, 0.0]\n",
      "0.414486833568\n",
      "[1.8040999047839996, 0.0, 0.0, 0.0, 0.0, 0.0, 3.0, 0.0, 3.0, 3.0]\n",
      "0.43214349666744\n",
      "[3.0, 0.0, 0.0, 0.0, 0.0, 0.0, 3.0, 0.0, 2.0201716531177194, 3.0]\n",
      "0.45476652281847335\n",
      "[1.1237774572634782, 0.0, 0.0, 3.0, 1.1237774572634782, 0.0, 3.0, 0.0, 3.0, 0.0]\n",
      "0.4686546416665513\n",
      "[3.0, 0.0, 0.0, 1.8272940784534104, 0.0, 0.654588156906821, 0.0, 0.0, 3.0, 3.0]\n",
      "0.4879661131005957\n",
      "[1.362932645955265, 0.0, 0.0, 3.0, 0.0, 3.0, 0.0, 0.0, 3.0, 1.362932645955265]\n",
      "0.4592199484466449\n",
      "[0.0, 0.0, 0.0, 3.0, 0.0, 3.0, 3.0, 0.0, 0.0, 2.9554752661338526]\n",
      "0.4275752085162833\n",
      "[3.0, 0.0, 0.0, 2.0564209567973313, 0.0, 1.1128419135946632, 3.0, 0.0, 0.0, 3.0]\n",
      "0.5173755681180985\n",
      "[3.0, 3.0, 0.0, 0.42795065445104363, 3.0, 0.0, 0.0, 0.0, 0.0, 3.0]\n",
      "0.5168341742146887\n"
     ]
    },
    {
     "name": "stderr",
     "output_type": "stream",
     "text": [
      "/var/folders/q3/hm2wt3010319t7l0hz8w8s4h0000gn/T/ipykernel_40754/1022525256.py:22: FutureWarning: The frame.append method is deprecated and will be removed from pandas in a future version. Use pandas.concat instead.\n",
      "  output = output.append(pd.Series(values), ignore_index=True)\n",
      "/var/folders/q3/hm2wt3010319t7l0hz8w8s4h0000gn/T/ipykernel_40754/1022525256.py:22: FutureWarning: The frame.append method is deprecated and will be removed from pandas in a future version. Use pandas.concat instead.\n",
      "  output = output.append(pd.Series(values), ignore_index=True)\n",
      "/var/folders/q3/hm2wt3010319t7l0hz8w8s4h0000gn/T/ipykernel_40754/1022525256.py:22: FutureWarning: The frame.append method is deprecated and will be removed from pandas in a future version. Use pandas.concat instead.\n",
      "  output = output.append(pd.Series(values), ignore_index=True)\n",
      "/var/folders/q3/hm2wt3010319t7l0hz8w8s4h0000gn/T/ipykernel_40754/1022525256.py:22: FutureWarning: The frame.append method is deprecated and will be removed from pandas in a future version. Use pandas.concat instead.\n",
      "  output = output.append(pd.Series(values), ignore_index=True)\n",
      "/var/folders/q3/hm2wt3010319t7l0hz8w8s4h0000gn/T/ipykernel_40754/1022525256.py:22: FutureWarning: The frame.append method is deprecated and will be removed from pandas in a future version. Use pandas.concat instead.\n",
      "  output = output.append(pd.Series(values), ignore_index=True)\n",
      "/var/folders/q3/hm2wt3010319t7l0hz8w8s4h0000gn/T/ipykernel_40754/1022525256.py:22: FutureWarning: The frame.append method is deprecated and will be removed from pandas in a future version. Use pandas.concat instead.\n",
      "  output = output.append(pd.Series(values), ignore_index=True)\n",
      "/var/folders/q3/hm2wt3010319t7l0hz8w8s4h0000gn/T/ipykernel_40754/1022525256.py:22: FutureWarning: The frame.append method is deprecated and will be removed from pandas in a future version. Use pandas.concat instead.\n",
      "  output = output.append(pd.Series(values), ignore_index=True)\n",
      "/var/folders/q3/hm2wt3010319t7l0hz8w8s4h0000gn/T/ipykernel_40754/1022525256.py:22: FutureWarning: The frame.append method is deprecated and will be removed from pandas in a future version. Use pandas.concat instead.\n",
      "  output = output.append(pd.Series(values), ignore_index=True)\n",
      "/var/folders/q3/hm2wt3010319t7l0hz8w8s4h0000gn/T/ipykernel_40754/1022525256.py:22: FutureWarning: The frame.append method is deprecated and will be removed from pandas in a future version. Use pandas.concat instead.\n",
      "  output = output.append(pd.Series(values), ignore_index=True)\n",
      "/var/folders/q3/hm2wt3010319t7l0hz8w8s4h0000gn/T/ipykernel_40754/1022525256.py:22: FutureWarning: The frame.append method is deprecated and will be removed from pandas in a future version. Use pandas.concat instead.\n",
      "  output = output.append(pd.Series(values), ignore_index=True)\n",
      "/var/folders/q3/hm2wt3010319t7l0hz8w8s4h0000gn/T/ipykernel_40754/1022525256.py:22: FutureWarning: The frame.append method is deprecated and will be removed from pandas in a future version. Use pandas.concat instead.\n",
      "  output = output.append(pd.Series(values), ignore_index=True)\n",
      "/var/folders/q3/hm2wt3010319t7l0hz8w8s4h0000gn/T/ipykernel_40754/1022525256.py:22: FutureWarning: The frame.append method is deprecated and will be removed from pandas in a future version. Use pandas.concat instead.\n",
      "  output = output.append(pd.Series(values), ignore_index=True)\n"
     ]
    }
   ],
   "source": [
    "budget = 10\n",
    "output = pd.DataFrame()\n",
    "\n",
    "for month in range(12):\n",
    "\n",
    "    model = gp.Model()\n",
    "    modelX = model.addMVar(10, ub = 3)\n",
    "\n",
    "    model.setObjective(gp.quicksum((roi_mat.iloc[month, i+1])/100*modelX[i] for i in range(10)), sense=gp.GRB.MAXIMIZE)\n",
    "\n",
    "    conlist = [0]*3\n",
    "    conlist[0] = model.addConstr((modelX[0] + modelX[1]) <= (modelX[4] + modelX[9]))\n",
    "    conlist[1] = model.addConstr(gp.quicksum(modelX[i] for i in range(4, 9)) >= 2 * (modelX[2] + modelX[3]))\n",
    "    conlist[2] = model.addConstr(gp.quicksum(modelX[i] for i in range(10)) <= budget)\n",
    "    \n",
    "    model.Params.OutputFlag = 0 \n",
    "    model.optimize()\n",
    "    print(model.x)\n",
    "    print(model.objval)\n",
    "    \n",
    "    values = model.x\n",
    "    output = output.append(pd.Series(values), ignore_index=True)\n",
    "\n",
    "    budget += (model.objval/2)\n"
   ]
  },
  {
   "cell_type": "code",
   "execution_count": 27,
   "id": "6b500487",
   "metadata": {},
   "outputs": [
    {
     "data": {
      "text/html": [
       "<div>\n",
       "<style scoped>\n",
       "    .dataframe tbody tr th:only-of-type {\n",
       "        vertical-align: middle;\n",
       "    }\n",
       "\n",
       "    .dataframe tbody tr th {\n",
       "        vertical-align: top;\n",
       "    }\n",
       "\n",
       "    .dataframe thead th {\n",
       "        text-align: right;\n",
       "    }\n",
       "</style>\n",
       "<table border=\"1\" class=\"dataframe\">\n",
       "  <thead>\n",
       "    <tr style=\"text-align: right;\">\n",
       "      <th></th>\n",
       "      <th>0</th>\n",
       "      <th>1</th>\n",
       "      <th>2</th>\n",
       "      <th>3</th>\n",
       "      <th>4</th>\n",
       "      <th>5</th>\n",
       "      <th>6</th>\n",
       "      <th>7</th>\n",
       "      <th>8</th>\n",
       "      <th>9</th>\n",
       "    </tr>\n",
       "  </thead>\n",
       "  <tbody>\n",
       "    <tr>\n",
       "      <th>0</th>\n",
       "      <td>3.000000</td>\n",
       "      <td>0.0</td>\n",
       "      <td>0.0</td>\n",
       "      <td>1.333333</td>\n",
       "      <td>0.000000</td>\n",
       "      <td>0.000000</td>\n",
       "      <td>2.666667</td>\n",
       "      <td>0.0</td>\n",
       "      <td>0.000000</td>\n",
       "      <td>3.000000</td>\n",
       "    </tr>\n",
       "    <tr>\n",
       "      <th>1</th>\n",
       "      <td>3.000000</td>\n",
       "      <td>0.0</td>\n",
       "      <td>0.0</td>\n",
       "      <td>2.395500</td>\n",
       "      <td>3.000000</td>\n",
       "      <td>0.000000</td>\n",
       "      <td>0.000000</td>\n",
       "      <td>0.0</td>\n",
       "      <td>1.791000</td>\n",
       "      <td>0.000000</td>\n",
       "    </tr>\n",
       "    <tr>\n",
       "      <th>2</th>\n",
       "      <td>0.000000</td>\n",
       "      <td>0.0</td>\n",
       "      <td>0.0</td>\n",
       "      <td>3.000000</td>\n",
       "      <td>0.000000</td>\n",
       "      <td>3.000000</td>\n",
       "      <td>1.389648</td>\n",
       "      <td>0.0</td>\n",
       "      <td>3.000000</td>\n",
       "      <td>0.000000</td>\n",
       "    </tr>\n",
       "    <tr>\n",
       "      <th>3</th>\n",
       "      <td>0.000000</td>\n",
       "      <td>0.0</td>\n",
       "      <td>0.0</td>\n",
       "      <td>3.000000</td>\n",
       "      <td>0.000000</td>\n",
       "      <td>3.000000</td>\n",
       "      <td>3.000000</td>\n",
       "      <td>0.0</td>\n",
       "      <td>1.596856</td>\n",
       "      <td>0.000000</td>\n",
       "    </tr>\n",
       "    <tr>\n",
       "      <th>4</th>\n",
       "      <td>1.804100</td>\n",
       "      <td>0.0</td>\n",
       "      <td>0.0</td>\n",
       "      <td>0.000000</td>\n",
       "      <td>0.000000</td>\n",
       "      <td>0.000000</td>\n",
       "      <td>3.000000</td>\n",
       "      <td>0.0</td>\n",
       "      <td>3.000000</td>\n",
       "      <td>3.000000</td>\n",
       "    </tr>\n",
       "    <tr>\n",
       "      <th>5</th>\n",
       "      <td>3.000000</td>\n",
       "      <td>0.0</td>\n",
       "      <td>0.0</td>\n",
       "      <td>0.000000</td>\n",
       "      <td>0.000000</td>\n",
       "      <td>0.000000</td>\n",
       "      <td>3.000000</td>\n",
       "      <td>0.0</td>\n",
       "      <td>2.020172</td>\n",
       "      <td>3.000000</td>\n",
       "    </tr>\n",
       "    <tr>\n",
       "      <th>6</th>\n",
       "      <td>1.123777</td>\n",
       "      <td>0.0</td>\n",
       "      <td>0.0</td>\n",
       "      <td>3.000000</td>\n",
       "      <td>1.123777</td>\n",
       "      <td>0.000000</td>\n",
       "      <td>3.000000</td>\n",
       "      <td>0.0</td>\n",
       "      <td>3.000000</td>\n",
       "      <td>0.000000</td>\n",
       "    </tr>\n",
       "    <tr>\n",
       "      <th>7</th>\n",
       "      <td>3.000000</td>\n",
       "      <td>0.0</td>\n",
       "      <td>0.0</td>\n",
       "      <td>1.827294</td>\n",
       "      <td>0.000000</td>\n",
       "      <td>0.654588</td>\n",
       "      <td>0.000000</td>\n",
       "      <td>0.0</td>\n",
       "      <td>3.000000</td>\n",
       "      <td>3.000000</td>\n",
       "    </tr>\n",
       "    <tr>\n",
       "      <th>8</th>\n",
       "      <td>1.362933</td>\n",
       "      <td>0.0</td>\n",
       "      <td>0.0</td>\n",
       "      <td>3.000000</td>\n",
       "      <td>0.000000</td>\n",
       "      <td>3.000000</td>\n",
       "      <td>0.000000</td>\n",
       "      <td>0.0</td>\n",
       "      <td>3.000000</td>\n",
       "      <td>1.362933</td>\n",
       "    </tr>\n",
       "    <tr>\n",
       "      <th>9</th>\n",
       "      <td>0.000000</td>\n",
       "      <td>0.0</td>\n",
       "      <td>0.0</td>\n",
       "      <td>3.000000</td>\n",
       "      <td>0.000000</td>\n",
       "      <td>3.000000</td>\n",
       "      <td>3.000000</td>\n",
       "      <td>0.0</td>\n",
       "      <td>0.000000</td>\n",
       "      <td>2.955475</td>\n",
       "    </tr>\n",
       "    <tr>\n",
       "      <th>10</th>\n",
       "      <td>3.000000</td>\n",
       "      <td>0.0</td>\n",
       "      <td>0.0</td>\n",
       "      <td>2.056421</td>\n",
       "      <td>0.000000</td>\n",
       "      <td>1.112842</td>\n",
       "      <td>3.000000</td>\n",
       "      <td>0.0</td>\n",
       "      <td>0.000000</td>\n",
       "      <td>3.000000</td>\n",
       "    </tr>\n",
       "    <tr>\n",
       "      <th>11</th>\n",
       "      <td>3.000000</td>\n",
       "      <td>3.0</td>\n",
       "      <td>0.0</td>\n",
       "      <td>0.427951</td>\n",
       "      <td>3.000000</td>\n",
       "      <td>0.000000</td>\n",
       "      <td>0.000000</td>\n",
       "      <td>0.0</td>\n",
       "      <td>0.000000</td>\n",
       "      <td>3.000000</td>\n",
       "    </tr>\n",
       "  </tbody>\n",
       "</table>\n",
       "</div>"
      ],
      "text/plain": [
       "           0    1    2         3         4         5         6    7         8  \\\n",
       "0   3.000000  0.0  0.0  1.333333  0.000000  0.000000  2.666667  0.0  0.000000   \n",
       "1   3.000000  0.0  0.0  2.395500  3.000000  0.000000  0.000000  0.0  1.791000   \n",
       "2   0.000000  0.0  0.0  3.000000  0.000000  3.000000  1.389648  0.0  3.000000   \n",
       "3   0.000000  0.0  0.0  3.000000  0.000000  3.000000  3.000000  0.0  1.596856   \n",
       "4   1.804100  0.0  0.0  0.000000  0.000000  0.000000  3.000000  0.0  3.000000   \n",
       "5   3.000000  0.0  0.0  0.000000  0.000000  0.000000  3.000000  0.0  2.020172   \n",
       "6   1.123777  0.0  0.0  3.000000  1.123777  0.000000  3.000000  0.0  3.000000   \n",
       "7   3.000000  0.0  0.0  1.827294  0.000000  0.654588  0.000000  0.0  3.000000   \n",
       "8   1.362933  0.0  0.0  3.000000  0.000000  3.000000  0.000000  0.0  3.000000   \n",
       "9   0.000000  0.0  0.0  3.000000  0.000000  3.000000  3.000000  0.0  0.000000   \n",
       "10  3.000000  0.0  0.0  2.056421  0.000000  1.112842  3.000000  0.0  0.000000   \n",
       "11  3.000000  3.0  0.0  0.427951  3.000000  0.000000  0.000000  0.0  0.000000   \n",
       "\n",
       "           9  \n",
       "0   3.000000  \n",
       "1   0.000000  \n",
       "2   0.000000  \n",
       "3   0.000000  \n",
       "4   3.000000  \n",
       "5   3.000000  \n",
       "6   0.000000  \n",
       "7   3.000000  \n",
       "8   1.362933  \n",
       "9   2.955475  \n",
       "10  3.000000  \n",
       "11  3.000000  "
      ]
     },
     "execution_count": 27,
     "metadata": {},
     "output_type": "execute_result"
    }
   ],
   "source": [
    "output"
   ]
  },
  {
   "cell_type": "markdown",
   "id": "40944db4",
   "metadata": {},
   "source": [
    "## 8. A stable budget is defined as a monthly allocation such that for each platform the monthly change in spend is no more than $1M. Is the allocation you found stable? If it isn’t, you do not need to solve a new optimization model. Describe how my might model this?"
   ]
  },
  {
   "cell_type": "markdown",
   "id": "0608f541",
   "metadata": {},
   "source": [
    "In the for loop, you could create a variable that stores the previous allocations and create new contraints that ensure the new variables are within $1M of the previous allocation."
   ]
  },
  {
   "cell_type": "code",
   "execution_count": 28,
   "id": "c3b3a510",
   "metadata": {},
   "outputs": [
    {
     "name": "stdout",
     "output_type": "stream",
     "text": [
      "[3.0, 0.0, 0.0, 1.3333333333333333, 0.0, 0.0, 2.666666666666667, 0.0, 0.0, 3.0]\n",
      "0.373\n",
      "[3.0, 0.0, 0.0, 1.7288333333333334, 1.0, 0.0, 1.666666666666667, 0.0, 0.7910000000000001, 2.0]\n",
      "0.37296266666666666\n",
      "[2.0, 0.0, 0.0, 2.124327111111111, 0.0, 1.0, 1.4576542222222222, 0.0, 1.7910000000000001, 2.0]\n",
      "0.3708796364444444\n",
      "[1.0, 0.0, 0.0, 2.852807050518519, 0.0, 2.0, 2.457654222222222, 0.0, 1.247959878814815, 1.0]\n",
      "0.40438327208237046\n",
      "[0.6598458582634072, 0.0, 0.0, 1.852807050518519, 0.0, 1.0, 3.0, 0.0, 2.247959878814815, 2.0]\n",
      "0.40924823930351556\n",
      "[1.6598458582634072, 0.0, 0.0, 0.852807050518519, 0.0, 0.0, 3.0, 0.0, 2.4525839984665727, 3.0]\n",
      "0.44658746598989574\n",
      "[1.3357235897249287, 0.0, 0.0, 1.852807050518519, 0.0, 0.0, 3.0, 0.0, 3.0, 2.0]\n",
      "0.4586167302220871\n",
      "[0.9178390053544909, 0.0, 0.0, 2.5, 0.0, 0.0, 2.0, 0.0, 3.0, 3.0]\n",
      "0.47654923822488865\n",
      "[1.917839005354491, 0.0, 0.0, 2.5, 0.0, 1.0, 1.0, 0.0, 3.0, 2.2382746191124436]\n",
      "0.4447327362693572\n"
     ]
    },
    {
     "name": "stderr",
     "output_type": "stream",
     "text": [
      "/var/folders/q3/hm2wt3010319t7l0hz8w8s4h0000gn/T/ipykernel_40754/3319818658.py:28: FutureWarning: The frame.append method is deprecated and will be removed from pandas in a future version. Use pandas.concat instead.\n",
      "  output = output.append(pd.Series(values), ignore_index=True)\n",
      "/var/folders/q3/hm2wt3010319t7l0hz8w8s4h0000gn/T/ipykernel_40754/3319818658.py:28: FutureWarning: The frame.append method is deprecated and will be removed from pandas in a future version. Use pandas.concat instead.\n",
      "  output = output.append(pd.Series(values), ignore_index=True)\n",
      "/var/folders/q3/hm2wt3010319t7l0hz8w8s4h0000gn/T/ipykernel_40754/3319818658.py:28: FutureWarning: The frame.append method is deprecated and will be removed from pandas in a future version. Use pandas.concat instead.\n",
      "  output = output.append(pd.Series(values), ignore_index=True)\n",
      "/var/folders/q3/hm2wt3010319t7l0hz8w8s4h0000gn/T/ipykernel_40754/3319818658.py:28: FutureWarning: The frame.append method is deprecated and will be removed from pandas in a future version. Use pandas.concat instead.\n",
      "  output = output.append(pd.Series(values), ignore_index=True)\n",
      "/var/folders/q3/hm2wt3010319t7l0hz8w8s4h0000gn/T/ipykernel_40754/3319818658.py:28: FutureWarning: The frame.append method is deprecated and will be removed from pandas in a future version. Use pandas.concat instead.\n",
      "  output = output.append(pd.Series(values), ignore_index=True)\n",
      "/var/folders/q3/hm2wt3010319t7l0hz8w8s4h0000gn/T/ipykernel_40754/3319818658.py:28: FutureWarning: The frame.append method is deprecated and will be removed from pandas in a future version. Use pandas.concat instead.\n",
      "  output = output.append(pd.Series(values), ignore_index=True)\n",
      "/var/folders/q3/hm2wt3010319t7l0hz8w8s4h0000gn/T/ipykernel_40754/3319818658.py:28: FutureWarning: The frame.append method is deprecated and will be removed from pandas in a future version. Use pandas.concat instead.\n",
      "  output = output.append(pd.Series(values), ignore_index=True)\n",
      "/var/folders/q3/hm2wt3010319t7l0hz8w8s4h0000gn/T/ipykernel_40754/3319818658.py:28: FutureWarning: The frame.append method is deprecated and will be removed from pandas in a future version. Use pandas.concat instead.\n",
      "  output = output.append(pd.Series(values), ignore_index=True)\n",
      "/var/folders/q3/hm2wt3010319t7l0hz8w8s4h0000gn/T/ipykernel_40754/3319818658.py:28: FutureWarning: The frame.append method is deprecated and will be removed from pandas in a future version. Use pandas.concat instead.\n",
      "  output = output.append(pd.Series(values), ignore_index=True)\n"
     ]
    },
    {
     "name": "stdout",
     "output_type": "stream",
     "text": [
      "[0.9178390053544909, 0.0, 0.0, 3.0, 0.0, 2.0, 2.0, 0.0, 2.0, 1.9606409872471229]\n",
      "0.4082756817525427\n",
      "[1.917839005354491, 0.0, 0.0, 2.5, 0.0, 1.0, 3.0, 0.0, 1.0, 2.664778828123394]\n",
      "0.49681220421007477\n",
      "[2.917839005354491, 1.0, 0.0, 1.8043949767428102, 1.0, 0.0, 2.0, 0.0, 0.6087899534856203, 3.0]\n",
      "0.4737353247219819\n"
     ]
    },
    {
     "name": "stderr",
     "output_type": "stream",
     "text": [
      "/var/folders/q3/hm2wt3010319t7l0hz8w8s4h0000gn/T/ipykernel_40754/3319818658.py:28: FutureWarning: The frame.append method is deprecated and will be removed from pandas in a future version. Use pandas.concat instead.\n",
      "  output = output.append(pd.Series(values), ignore_index=True)\n",
      "/var/folders/q3/hm2wt3010319t7l0hz8w8s4h0000gn/T/ipykernel_40754/3319818658.py:28: FutureWarning: The frame.append method is deprecated and will be removed from pandas in a future version. Use pandas.concat instead.\n",
      "  output = output.append(pd.Series(values), ignore_index=True)\n",
      "/var/folders/q3/hm2wt3010319t7l0hz8w8s4h0000gn/T/ipykernel_40754/3319818658.py:28: FutureWarning: The frame.append method is deprecated and will be removed from pandas in a future version. Use pandas.concat instead.\n",
      "  output = output.append(pd.Series(values), ignore_index=True)\n"
     ]
    }
   ],
   "source": [
    "budget = 10\n",
    "output = pd.DataFrame()\n",
    "\n",
    "for month in range(12):\n",
    "\n",
    "    model = gp.Model()\n",
    "    modelX = model.addMVar(10, ub = 3)\n",
    "\n",
    "    model.setObjective(gp.quicksum((roi_mat.iloc[month, i+1])/100*modelX[i] for i in range(10)), sense=gp.GRB.MAXIMIZE)\n",
    "\n",
    "    conlist = [0]*5\n",
    "    conlist[0] = model.addConstr((modelX[0] + modelX[1]) <= (modelX[4] + modelX[9]))\n",
    "    conlist[1] = model.addConstr(gp.quicksum(modelX[i] for i in range(4, 9)) >= 2 * (modelX[2] + modelX[3]))\n",
    "    conlist[2] = model.addConstr(gp.quicksum(modelX[i] for i in range(10)) <= budget)\n",
    "\n",
    "    model.Params.OutputFlag = 0 \n",
    "    if month == 0:\n",
    "        model.optimize()\n",
    "    else:\n",
    "        conlist[3] = model.addConstrs(modelX[i] - values[i] <= 1 for i in range(10))\n",
    "        conlist[4] = model.addConstrs(modelX[i] - values[i] >= -1 for i in range(10))\n",
    "        model.optimize()\n",
    "\n",
    "    print(model.x)\n",
    "    print(model.objval)\n",
    "    \n",
    "    values = model.x\n",
    "    output = output.append(pd.Series(values), ignore_index=True)\n",
    "\n",
    "    budget += (model.objval/2)\n",
    "\n"
   ]
  },
  {
   "cell_type": "code",
   "execution_count": 29,
   "id": "14a95036",
   "metadata": {},
   "outputs": [
    {
     "data": {
      "text/html": [
       "<div>\n",
       "<style scoped>\n",
       "    .dataframe tbody tr th:only-of-type {\n",
       "        vertical-align: middle;\n",
       "    }\n",
       "\n",
       "    .dataframe tbody tr th {\n",
       "        vertical-align: top;\n",
       "    }\n",
       "\n",
       "    .dataframe thead th {\n",
       "        text-align: right;\n",
       "    }\n",
       "</style>\n",
       "<table border=\"1\" class=\"dataframe\">\n",
       "  <thead>\n",
       "    <tr style=\"text-align: right;\">\n",
       "      <th></th>\n",
       "      <th>0</th>\n",
       "      <th>1</th>\n",
       "      <th>2</th>\n",
       "      <th>3</th>\n",
       "      <th>4</th>\n",
       "      <th>5</th>\n",
       "      <th>6</th>\n",
       "      <th>7</th>\n",
       "      <th>8</th>\n",
       "      <th>9</th>\n",
       "    </tr>\n",
       "  </thead>\n",
       "  <tbody>\n",
       "    <tr>\n",
       "      <th>0</th>\n",
       "      <td>3.000000</td>\n",
       "      <td>0.0</td>\n",
       "      <td>0.0</td>\n",
       "      <td>1.333333</td>\n",
       "      <td>0.0</td>\n",
       "      <td>0.0</td>\n",
       "      <td>2.666667</td>\n",
       "      <td>0.0</td>\n",
       "      <td>0.000000</td>\n",
       "      <td>3.000000</td>\n",
       "    </tr>\n",
       "    <tr>\n",
       "      <th>1</th>\n",
       "      <td>3.000000</td>\n",
       "      <td>0.0</td>\n",
       "      <td>0.0</td>\n",
       "      <td>1.728833</td>\n",
       "      <td>1.0</td>\n",
       "      <td>0.0</td>\n",
       "      <td>1.666667</td>\n",
       "      <td>0.0</td>\n",
       "      <td>0.791000</td>\n",
       "      <td>2.000000</td>\n",
       "    </tr>\n",
       "    <tr>\n",
       "      <th>2</th>\n",
       "      <td>2.000000</td>\n",
       "      <td>0.0</td>\n",
       "      <td>0.0</td>\n",
       "      <td>2.124327</td>\n",
       "      <td>0.0</td>\n",
       "      <td>1.0</td>\n",
       "      <td>1.457654</td>\n",
       "      <td>0.0</td>\n",
       "      <td>1.791000</td>\n",
       "      <td>2.000000</td>\n",
       "    </tr>\n",
       "    <tr>\n",
       "      <th>3</th>\n",
       "      <td>1.000000</td>\n",
       "      <td>0.0</td>\n",
       "      <td>0.0</td>\n",
       "      <td>2.852807</td>\n",
       "      <td>0.0</td>\n",
       "      <td>2.0</td>\n",
       "      <td>2.457654</td>\n",
       "      <td>0.0</td>\n",
       "      <td>1.247960</td>\n",
       "      <td>1.000000</td>\n",
       "    </tr>\n",
       "    <tr>\n",
       "      <th>4</th>\n",
       "      <td>0.659846</td>\n",
       "      <td>0.0</td>\n",
       "      <td>0.0</td>\n",
       "      <td>1.852807</td>\n",
       "      <td>0.0</td>\n",
       "      <td>1.0</td>\n",
       "      <td>3.000000</td>\n",
       "      <td>0.0</td>\n",
       "      <td>2.247960</td>\n",
       "      <td>2.000000</td>\n",
       "    </tr>\n",
       "    <tr>\n",
       "      <th>5</th>\n",
       "      <td>1.659846</td>\n",
       "      <td>0.0</td>\n",
       "      <td>0.0</td>\n",
       "      <td>0.852807</td>\n",
       "      <td>0.0</td>\n",
       "      <td>0.0</td>\n",
       "      <td>3.000000</td>\n",
       "      <td>0.0</td>\n",
       "      <td>2.452584</td>\n",
       "      <td>3.000000</td>\n",
       "    </tr>\n",
       "    <tr>\n",
       "      <th>6</th>\n",
       "      <td>1.335724</td>\n",
       "      <td>0.0</td>\n",
       "      <td>0.0</td>\n",
       "      <td>1.852807</td>\n",
       "      <td>0.0</td>\n",
       "      <td>0.0</td>\n",
       "      <td>3.000000</td>\n",
       "      <td>0.0</td>\n",
       "      <td>3.000000</td>\n",
       "      <td>2.000000</td>\n",
       "    </tr>\n",
       "    <tr>\n",
       "      <th>7</th>\n",
       "      <td>0.917839</td>\n",
       "      <td>0.0</td>\n",
       "      <td>0.0</td>\n",
       "      <td>2.500000</td>\n",
       "      <td>0.0</td>\n",
       "      <td>0.0</td>\n",
       "      <td>2.000000</td>\n",
       "      <td>0.0</td>\n",
       "      <td>3.000000</td>\n",
       "      <td>3.000000</td>\n",
       "    </tr>\n",
       "    <tr>\n",
       "      <th>8</th>\n",
       "      <td>1.917839</td>\n",
       "      <td>0.0</td>\n",
       "      <td>0.0</td>\n",
       "      <td>2.500000</td>\n",
       "      <td>0.0</td>\n",
       "      <td>1.0</td>\n",
       "      <td>1.000000</td>\n",
       "      <td>0.0</td>\n",
       "      <td>3.000000</td>\n",
       "      <td>2.238275</td>\n",
       "    </tr>\n",
       "    <tr>\n",
       "      <th>9</th>\n",
       "      <td>0.917839</td>\n",
       "      <td>0.0</td>\n",
       "      <td>0.0</td>\n",
       "      <td>3.000000</td>\n",
       "      <td>0.0</td>\n",
       "      <td>2.0</td>\n",
       "      <td>2.000000</td>\n",
       "      <td>0.0</td>\n",
       "      <td>2.000000</td>\n",
       "      <td>1.960641</td>\n",
       "    </tr>\n",
       "    <tr>\n",
       "      <th>10</th>\n",
       "      <td>1.917839</td>\n",
       "      <td>0.0</td>\n",
       "      <td>0.0</td>\n",
       "      <td>2.500000</td>\n",
       "      <td>0.0</td>\n",
       "      <td>1.0</td>\n",
       "      <td>3.000000</td>\n",
       "      <td>0.0</td>\n",
       "      <td>1.000000</td>\n",
       "      <td>2.664779</td>\n",
       "    </tr>\n",
       "    <tr>\n",
       "      <th>11</th>\n",
       "      <td>2.917839</td>\n",
       "      <td>1.0</td>\n",
       "      <td>0.0</td>\n",
       "      <td>1.804395</td>\n",
       "      <td>1.0</td>\n",
       "      <td>0.0</td>\n",
       "      <td>2.000000</td>\n",
       "      <td>0.0</td>\n",
       "      <td>0.608790</td>\n",
       "      <td>3.000000</td>\n",
       "    </tr>\n",
       "  </tbody>\n",
       "</table>\n",
       "</div>"
      ],
      "text/plain": [
       "           0    1    2         3    4    5         6    7         8         9\n",
       "0   3.000000  0.0  0.0  1.333333  0.0  0.0  2.666667  0.0  0.000000  3.000000\n",
       "1   3.000000  0.0  0.0  1.728833  1.0  0.0  1.666667  0.0  0.791000  2.000000\n",
       "2   2.000000  0.0  0.0  2.124327  0.0  1.0  1.457654  0.0  1.791000  2.000000\n",
       "3   1.000000  0.0  0.0  2.852807  0.0  2.0  2.457654  0.0  1.247960  1.000000\n",
       "4   0.659846  0.0  0.0  1.852807  0.0  1.0  3.000000  0.0  2.247960  2.000000\n",
       "5   1.659846  0.0  0.0  0.852807  0.0  0.0  3.000000  0.0  2.452584  3.000000\n",
       "6   1.335724  0.0  0.0  1.852807  0.0  0.0  3.000000  0.0  3.000000  2.000000\n",
       "7   0.917839  0.0  0.0  2.500000  0.0  0.0  2.000000  0.0  3.000000  3.000000\n",
       "8   1.917839  0.0  0.0  2.500000  0.0  1.0  1.000000  0.0  3.000000  2.238275\n",
       "9   0.917839  0.0  0.0  3.000000  0.0  2.0  2.000000  0.0  2.000000  1.960641\n",
       "10  1.917839  0.0  0.0  2.500000  0.0  1.0  3.000000  0.0  1.000000  2.664779\n",
       "11  2.917839  1.0  0.0  1.804395  1.0  0.0  2.000000  0.0  0.608790  3.000000"
      ]
     },
     "execution_count": 29,
     "metadata": {},
     "output_type": "execute_result"
    }
   ],
   "source": [
    "output"
   ]
  }
 ],
 "metadata": {
  "kernelspec": {
   "display_name": "Python 3 (ipykernel)",
   "language": "python",
   "name": "python3"
  },
  "language_info": {
   "codemirror_mode": {
    "name": "ipython",
    "version": 3
   },
   "file_extension": ".py",
   "mimetype": "text/x-python",
   "name": "python",
   "nbconvert_exporter": "python",
   "pygments_lexer": "ipython3",
   "version": "3.11.4"
  }
 },
 "nbformat": 4,
 "nbformat_minor": 5
}
